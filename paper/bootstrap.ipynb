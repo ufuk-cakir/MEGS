{
 "cells": [
  {
   "cell_type": "code",
   "execution_count": 4,
   "metadata": {},
   "outputs": [],
   "source": [
    "\n",
    "\n",
    "from matplotlib.gridspec import GridSpec\n",
    "import matplotlib.pyplot as plt\n",
    "\n",
    "import numpy as np\n",
    "\n",
    "\n",
    "import seaborn as sns\n",
    "sns.set_context(\"paper\", font_scale=1.5)\n",
    "\n",
    "import os\n"
   ]
  },
  {
   "cell_type": "code",
   "execution_count": 2,
   "metadata": {},
   "outputs": [],
   "source": [
    "# Load model from pickle\n",
    "with open(\"2dmodel60.pkl\", 'rb') as f:\n",
    "    mm = pickle.load(f)"
   ]
  },
  {
   "cell_type": "code",
   "execution_count": 3,
   "metadata": {},
   "outputs": [],
   "source": [
    "original = mm.get_images()\n"
   ]
  },
  {
   "cell_type": "code",
   "execution_count": null,
   "metadata": {},
   "outputs": [],
   "source": [
    "# Create 1000 PCA fits with random subsamples of the data\n",
    "from tqdm import trange\n",
    "from sklearn.decomposition import PCA\n",
    "\n",
    "def boostrap():\n",
    "    data = original.reshape(original.shape[0], -1).copy()\n",
    "    pca = PCA(n_components = 60)\n",
    "    explained_variance_ratio=[]\n",
    "    for i in trange(400):\n",
    "        random_samples = np.random.choice(data.shape[0], int(data.shape[0]*0.75), replace=False)\n",
    "        subsample = data[random_samples]\n",
    "        pca.fit(subsample)\n",
    "        explained_variance_ratio.append(pca.explained_variance_ratio_)\n",
    "    evr = np.array(explained_variance_ratio)\n",
    "    np.save(\"explained_variance_ratios_60_comp.npy\",evr)"
   ]
  },
  {
   "cell_type": "code",
   "execution_count": 7,
   "metadata": {},
   "outputs": [],
   "source": [
    "\n",
    "evr = np.load(\"explained_variance_ratios_60_comp.npy\")\n",
    "evr3d = np.load(\"EVR_boostrap_3d_215_eigengalaxies.npy\")"
   ]
  },
  {
   "cell_type": "code",
   "execution_count": 9,
   "metadata": {},
   "outputs": [
    {
     "data": {
      "text/plain": [
       "(400, 60)"
      ]
     },
     "execution_count": 9,
     "metadata": {},
     "output_type": "execute_result"
    }
   ],
   "source": [
    "evr.shape"
   ]
  },
  {
   "cell_type": "code",
   "execution_count": null,
   "metadata": {},
   "outputs": [],
   "source": []
  },
  {
   "cell_type": "code",
   "execution_count": 10,
   "metadata": {},
   "outputs": [
    {
     "name": "stdout",
     "output_type": "stream",
     "text": [
      "2D\n",
      "Mean: 0.9087\n",
      "Median: 0.9087\n",
      "Standard deviation: 0.0003\n",
      "3D\n",
      "Mean: 0.8902\n",
      "Median: 0.8902\n",
      "Standard deviation: 0.0003\n"
     ]
    },
    {
     "data": {
      "image/png": "[encoded data removed]",
      "text/plain": [
       "<Figure size 640x480 with 1 Axes>"
      ]
     },
     "metadata": {},
     "output_type": "display_data"
    }
   ],
   "source": [
    "import matplotlib.pyplot as plt\n",
    "import numpy as np\n",
    "\n",
    "evr_sum = evr.sum(axis=1)\n",
    "evr_sum3d = evr3d.sum(axis=1)\n",
    "n_bins = 40\n",
    "\n",
    "# Calculate statistics\n",
    "mean = np.mean(evr_sum)\n",
    "std = np.std(evr_sum)\n",
    "median = np.median(evr_sum)\n",
    "\n",
    "mean3d = np.mean(evr_sum3d)\n",
    "std3d = np.std(evr_sum3d)\n",
    "median3d = np.median(evr_sum3d)\n",
    "\n",
    "print(\"2D\")\n",
    "print(\"Mean: {:.4f}\".format(mean))\n",
    "print(\"Median: {:.4f}\".format(median))\n",
    "print(\"Standard deviation: {:.4f}\".format(std))\n",
    "\n",
    "print(\"3D\")\n",
    "print(\"Mean: {:.4f}\".format(mean3d))\n",
    "print(\"Median: {:.4f}\".format(median3d))\n",
    "print(\"Standard deviation: {:.4f}\".format(std3d))\n",
    "\n",
    "\n",
    "tick_range = (mean - 5 * std, mean + 5 * std)\n",
    "plt.hist(evr_sum, bins=n_bins, color=\"steelblue\", alpha=0.5, range=tick_range)\n",
    "plt.hist(evr_sum3d, bins=n_bins, color=\"maroon\", alpha=0.5, range=tick_range)\n",
    "plt.xlabel(\"Explained variance\")\n",
    "plt.ylabel(\"Frequency\")\n",
    "plt.grid()\n",
    "plt.tick_params(bottom=True, top=True, left=True, right=True, direction='in', which='major', grid_color='black',\n",
    "                grid_alpha=0.15, pad = 8)\n",
    "\n",
    "# Adjust tick label font size\n",
    "ticks, _ = plt.xticks()\n",
    "plt.xticks(ticks[::2], [\"{:.4f}\".format(tick) for tick in ticks[::2]])\n",
    "\n",
    "plt.tight_layout()\n",
    "\n",
    "import os\n",
    "os.makedirs(\"plots\", exist_ok=True)\n",
    "plt.savefig(\"plots/explained_variance_60_comp.pdf\", dpi=300)\n"
   ]
  },
  {
   "cell_type": "code",
   "execution_count": 25,
   "metadata": {},
   "outputs": [
    {
     "ename": "ValueError",
     "evalue": "The truth value of an array with more than one element is ambiguous. Use a.any() or a.all()",
     "output_type": "error",
     "traceback": [
      "\u001b[0;31m---------------------------------------------------------------------------\u001b[0m",
      "\u001b[0;31mValueError\u001b[0m                                Traceback (most recent call last)",
      "Cell \u001b[0;32mIn[25], line 20\u001b[0m\n\u001b[1;32m     14\u001b[0m \u001b[39m# Adjust tick label font size\u001b[39;00m\n\u001b[1;32m     15\u001b[0m \u001b[39m#ticks, _ = plt.xticks()\u001b[39;00m\n\u001b[1;32m     16\u001b[0m \u001b[39m#plt.xticks(ticks[::2], [\"{:.4f}\".format(tick) for tick in ticks[::2]])\u001b[39;00m\n\u001b[1;32m     17\u001b[0m \u001b[39m#Adjust tick label font size\u001b[39;00m\n\u001b[1;32m     19\u001b[0m tickrange \u001b[39m=\u001b[39m np\u001b[39m.\u001b[39mlinspace(tick_range, n_bins\u001b[39m/\u001b[39m\u001b[39m/\u001b[39m\u001b[39m2\u001b[39m\u001b[39m+\u001b[39m\u001b[39m1\u001b[39m)\n\u001b[0;32m---> 20\u001b[0m plt\u001b[39m.\u001b[39;49mxticks(tickrange,tickrange,rotation\u001b[39m=\u001b[39;49m\u001b[39m45\u001b[39;49m)\n\u001b[1;32m     21\u001b[0m plt\u001b[39m.\u001b[39mtight_layout()\n\u001b[1;32m     23\u001b[0m \u001b[39mimport\u001b[39;00m \u001b[39mos\u001b[39;00m\n",
      "File \u001b[0;32m/usr/lib/python3/dist-packages/matplotlib/pyplot.py:1788\u001b[0m, in \u001b[0;36mxticks\u001b[0;34m(ticks, labels, **kwargs)\u001b[0m\n\u001b[1;32m   1785\u001b[0m         \u001b[39mraise\u001b[39;00m \u001b[39mTypeError\u001b[39;00m(\u001b[39m\"\u001b[39m\u001b[39mxticks(): Parameter \u001b[39m\u001b[39m'\u001b[39m\u001b[39mlabels\u001b[39m\u001b[39m'\u001b[39m\u001b[39m can\u001b[39m\u001b[39m'\u001b[39m\u001b[39mt be set \u001b[39m\u001b[39m\"\u001b[39m\n\u001b[1;32m   1786\u001b[0m                         \u001b[39m\"\u001b[39m\u001b[39mwithout setting \u001b[39m\u001b[39m'\u001b[39m\u001b[39mticks\u001b[39m\u001b[39m'\u001b[39m\u001b[39m\"\u001b[39m)\n\u001b[1;32m   1787\u001b[0m \u001b[39melse\u001b[39;00m:\n\u001b[0;32m-> 1788\u001b[0m     locs \u001b[39m=\u001b[39m ax\u001b[39m.\u001b[39;49mset_xticks(ticks)\n\u001b[1;32m   1790\u001b[0m \u001b[39mif\u001b[39;00m labels \u001b[39mis\u001b[39;00m \u001b[39mNone\u001b[39;00m:\n\u001b[1;32m   1791\u001b[0m     labels \u001b[39m=\u001b[39m ax\u001b[39m.\u001b[39mget_xticklabels()\n",
      "File \u001b[0;32m/usr/lib/python3/dist-packages/matplotlib/axes/_base.py:75\u001b[0m, in \u001b[0;36m_axis_method_wrapper.__set_name__.<locals>.wrapper\u001b[0;34m(self, *args, **kwargs)\u001b[0m\n\u001b[1;32m     74\u001b[0m \u001b[39mdef\u001b[39;00m \u001b[39mwrapper\u001b[39m(\u001b[39mself\u001b[39m, \u001b[39m*\u001b[39margs, \u001b[39m*\u001b[39m\u001b[39m*\u001b[39mkwargs):\n\u001b[0;32m---> 75\u001b[0m     \u001b[39mreturn\u001b[39;00m get_method(\u001b[39mself\u001b[39;49m)(\u001b[39m*\u001b[39;49margs, \u001b[39m*\u001b[39;49m\u001b[39m*\u001b[39;49mkwargs)\n",
      "File \u001b[0;32m/usr/lib/python3/dist-packages/matplotlib/axis.py:1855\u001b[0m, in \u001b[0;36mAxis.set_ticks\u001b[0;34m(self, ticks, labels, minor, **kwargs)\u001b[0m\n\u001b[1;32m   1829\u001b[0m \u001b[39mdef\u001b[39;00m \u001b[39mset_ticks\u001b[39m(\u001b[39mself\u001b[39m, ticks, labels\u001b[39m=\u001b[39m\u001b[39mNone\u001b[39;00m, \u001b[39m*\u001b[39m, minor\u001b[39m=\u001b[39m\u001b[39mFalse\u001b[39;00m, \u001b[39m*\u001b[39m\u001b[39m*\u001b[39mkwargs):\n\u001b[1;32m   1830\u001b[0m \u001b[39m    \u001b[39m\u001b[39m\"\"\"\u001b[39;00m\n\u001b[1;32m   1831\u001b[0m \u001b[39m    Set this Axis' tick locations and optionally labels.\u001b[39;00m\n\u001b[1;32m   1832\u001b[0m \n\u001b[0;32m   (...)\u001b[0m\n\u001b[1;32m   1853\u001b[0m \u001b[39m    ticks.\u001b[39;00m\n\u001b[1;32m   1854\u001b[0m \u001b[39m    \"\"\"\u001b[39;00m\n\u001b[0;32m-> 1855\u001b[0m     result \u001b[39m=\u001b[39m \u001b[39mself\u001b[39;49m\u001b[39m.\u001b[39;49m_set_tick_locations(ticks, minor\u001b[39m=\u001b[39;49mminor)\n\u001b[1;32m   1856\u001b[0m     \u001b[39mif\u001b[39;00m labels \u001b[39mis\u001b[39;00m \u001b[39mnot\u001b[39;00m \u001b[39mNone\u001b[39;00m:\n\u001b[1;32m   1857\u001b[0m         \u001b[39mself\u001b[39m\u001b[39m.\u001b[39mset_ticklabels(labels, minor\u001b[39m=\u001b[39mminor, \u001b[39m*\u001b[39m\u001b[39m*\u001b[39mkwargs)\n",
      "File \u001b[0;32m/usr/lib/python3/dist-packages/matplotlib/axis.py:1818\u001b[0m, in \u001b[0;36mAxis._set_tick_locations\u001b[0;34m(self, ticks, minor)\u001b[0m\n\u001b[1;32m   1816\u001b[0m xleft, xright \u001b[39m=\u001b[39m axis\u001b[39m.\u001b[39mget_view_interval()\n\u001b[1;32m   1817\u001b[0m \u001b[39mif\u001b[39;00m xright \u001b[39m>\u001b[39m xleft:\n\u001b[0;32m-> 1818\u001b[0m     axis\u001b[39m.\u001b[39mset_view_interval(\u001b[39mmin\u001b[39;49m(ticks), \u001b[39mmax\u001b[39m(ticks))\n\u001b[1;32m   1819\u001b[0m \u001b[39melse\u001b[39;00m:\n\u001b[1;32m   1820\u001b[0m     axis\u001b[39m.\u001b[39mset_view_interval(\u001b[39mmax\u001b[39m(ticks), \u001b[39mmin\u001b[39m(ticks))\n",
      "\u001b[0;31mValueError\u001b[0m: The truth value of an array with more than one element is ambiguous. Use a.any() or a.all()"
     ]
    },
    {
     "data": {
      "image/png": "[encoded data removed]",
      "text/plain": [
       "<Figure size 640x480 with 1 Axes>"
      ]
     },
     "metadata": {},
     "output_type": "display_data"
    }
   ],
   "source": [
    "lower= mean3d - 5 * std3d\n",
    "upper= mean3d + 5 * std3d\n",
    "\n",
    "tick_range= (round(lower, 4), round(upper, 4))\n",
    "\n",
    "plt.hist(evr_sum, bins=n_bins, color=\"steelblue\", alpha=0.5, range=tick_range)\n",
    "plt.hist(evr_sum3d, bins=n_bins, color=\"maroon\", alpha=0.5, range=tick_range)\n",
    "plt.xlabel(\"Explained variance\")\n",
    "plt.ylabel(\"Frequency\")\n",
    "plt.grid()\n",
    "plt.tick_params(bottom=True, top=True, left=True, right=True, direction='in', which='major', grid_color='black',\n",
    "                grid_alpha=0.15, pad = 8)\n",
    "\n",
    "# Adjust tick label font size\n",
    "#ticks, _ = plt.xticks()\n",
    "#plt.xticks(ticks[::2], [\"{:.4f}\".format(tick) for tick in ticks[::2]])\n",
    "#Adjust tick label font size\n",
    "\n",
    "tickrange = np.linspace(tick_range, n_bins//2+1)\n",
    "plt.xticks(tickrange,tickrange,rotation=45)\n",
    "plt.tight_layout()\n",
    "\n",
    "import os\n",
    "os.makedirs(\"plots\", exist_ok=True)\n",
    "plt.savefig(\"plots/EVR_bootstrap3d\", dpi=300)"
   ]
  },
  {
   "cell_type": "code",
   "execution_count": 18,
   "metadata": {},
   "outputs": [
    {
     "ename": "TypeError",
     "evalue": "unsupported format string passed to numpy.ndarray.__format__",
     "output_type": "error",
     "traceback": [
      "\u001b[0;31m---------------------------------------------------------------------------\u001b[0m",
      "\u001b[0;31mTypeError\u001b[0m                                 Traceback (most recent call last)",
      "Cell \u001b[0;32mIn[18], line 1\u001b[0m\n\u001b[0;32m----> 1\u001b[0m [\u001b[39m\"\u001b[39m\u001b[39m{:.4f}\u001b[39;00m\u001b[39m\"\u001b[39m\u001b[39m.\u001b[39mformat(tick) \u001b[39mfor\u001b[39;00m tick \u001b[39min\u001b[39;00m tickrange]\n",
      "Cell \u001b[0;32mIn[18], line 1\u001b[0m, in \u001b[0;36m<listcomp>\u001b[0;34m(.0)\u001b[0m\n\u001b[0;32m----> 1\u001b[0m [\u001b[39m\"\u001b[39;49m\u001b[39m{:.4f}\u001b[39;49;00m\u001b[39m\"\u001b[39;49m\u001b[39m.\u001b[39;49mformat(tick) \u001b[39mfor\u001b[39;00m tick \u001b[39min\u001b[39;00m tickrange]\n",
      "\u001b[0;31mTypeError\u001b[0m: unsupported format string passed to numpy.ndarray.__format__"
     ]
    }
   ],
   "source": [
    "[\"{:.4f}\".format(tick) for tick in tickrange]"
   ]
  },
  {
   "cell_type": "code",
   "execution_count": 21,
   "metadata": {},
   "outputs": [
    {
     "ename": "TypeError",
     "evalue": "unsupported format string passed to numpy.ndarray.__format__",
     "output_type": "error",
     "traceback": [
      "\u001b[0;31m---------------------------------------------------------------------------\u001b[0m",
      "\u001b[0;31mTypeError\u001b[0m                                 Traceback (most recent call last)",
      "Cell \u001b[0;32mIn[21], line 1\u001b[0m\n\u001b[0;32m----> 1\u001b[0m \u001b[39m\"\u001b[39;49m\u001b[39m{:.4f}\u001b[39;49;00m\u001b[39m\"\u001b[39;49m\u001b[39m.\u001b[39;49mformat(tickrange[\u001b[39m0\u001b[39;49m])\n",
      "\u001b[0;31mTypeError\u001b[0m: unsupported format string passed to numpy.ndarray.__format__"
     ]
    }
   ],
   "source": [
    "\"{:.4f}\".format(tickrange[0])"
   ]
  },
  {
   "cell_type": "code",
   "execution_count": 19,
   "metadata": {},
   "outputs": [
    {
     "data": {
      "text/plain": [
       "array([[ 0.8887    ,  0.8916    ],\n",
       "       [ 1.29913469,  1.30197551],\n",
       "       [ 1.70956939,  1.71235102],\n",
       "       [ 2.12000408,  2.12272653],\n",
       "       [ 2.53043878,  2.53310204],\n",
       "       [ 2.94087347,  2.94347755],\n",
       "       [ 3.35130816,  3.35385306],\n",
       "       [ 3.76174286,  3.76422857],\n",
       "       [ 4.17217755,  4.17460408],\n",
       "       [ 4.58261224,  4.58497959],\n",
       "       [ 4.99304694,  4.9953551 ],\n",
       "       [ 5.40348163,  5.40573061],\n",
       "       [ 5.81391633,  5.81610612],\n",
       "       [ 6.22435102,  6.22648163],\n",
       "       [ 6.63478571,  6.63685714],\n",
       "       [ 7.04522041,  7.04723265],\n",
       "       [ 7.4556551 ,  7.45760816],\n",
       "       [ 7.8660898 ,  7.86798367],\n",
       "       [ 8.27652449,  8.27835918],\n",
       "       [ 8.68695918,  8.68873469],\n",
       "       [ 9.09739388,  9.0991102 ],\n",
       "       [ 9.50782857,  9.50948571],\n",
       "       [ 9.91826327,  9.91986122],\n",
       "       [10.32869796, 10.33023673],\n",
       "       [10.73913265, 10.74061224],\n",
       "       [11.14956735, 11.15098776],\n",
       "       [11.56000204, 11.56136327],\n",
       "       [11.97043673, 11.97173878],\n",
       "       [12.38087143, 12.38211429],\n",
       "       [12.79130612, 12.7924898 ],\n",
       "       [13.20174082, 13.20286531],\n",
       "       [13.61217551, 13.61324082],\n",
       "       [14.0226102 , 14.02361633],\n",
       "       [14.4330449 , 14.43399184],\n",
       "       [14.84347959, 14.84436735],\n",
       "       [15.25391429, 15.25474286],\n",
       "       [15.66434898, 15.66511837],\n",
       "       [16.07478367, 16.07549388],\n",
       "       [16.48521837, 16.48586939],\n",
       "       [16.89565306, 16.8962449 ],\n",
       "       [17.30608776, 17.30662041],\n",
       "       [17.71652245, 17.71699592],\n",
       "       [18.12695714, 18.12737143],\n",
       "       [18.53739184, 18.53774694],\n",
       "       [18.94782653, 18.94812245],\n",
       "       [19.35826122, 19.35849796],\n",
       "       [19.76869592, 19.76887347],\n",
       "       [20.17913061, 20.17924898],\n",
       "       [20.58956531, 20.58962449],\n",
       "       [21.        , 21.        ]])"
      ]
     },
     "execution_count": 19,
     "metadata": {},
     "output_type": "execute_result"
    }
   ],
   "source": [
    "tickrange"
   ]
  },
  {
   "cell_type": "code",
   "execution_count": null,
   "metadata": {},
   "outputs": [],
   "source": []
  }
 ],
 "metadata": {
  "kernelspec": {
   "display_name": "Python 3",
   "language": "python",
   "name": "python3"
  },
  "language_info": {
   "codemirror_mode": {
    "name": "ipython",
    "version": 3
   },
   "file_extension": ".py",
   "mimetype": "text/x-python",
   "name": "python",
   "nbconvert_exporter": "python",
   "pygments_lexer": "ipython3",
   "version": "3.10.12"
  },
  "orig_nbformat": 4
 },
 "nbformat": 4,
 "nbformat_minor": 2
}
