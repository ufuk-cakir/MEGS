{
 "cells": [
  {
   "cell_type": "code",
   "execution_count": 1,
   "metadata": {},
   "outputs": [],
   "source": [
    "import sys\n",
    "sys.path.insert(0, '../src')\n",
    "\n",
    "from megs.model.mPCA import mPCA\n",
    "from megs.data import image, DataLoader, Galaxy\n",
    "\n",
    "from matplotlib.gridspec import GridSpec\n",
    "import matplotlib.pyplot as plt\n",
    "\n",
    "import numpy as np\n",
    "import pickle\n",
    "from tqdm import trange\n",
    "import seaborn as sns\n",
    "sns.set_context(\"paper\", font_scale=1.5)\n",
    "\n",
    "# Load mm object from the file\n",
    "#filename = \"morphmodel.pkl\"\n",
    "#filename = \"2dmorphmodel400.pkl\"\n",
    "#with open(filename, \"rb\") as file:\n",
    "\n",
    "\n",
    "#    mm = pickle.load(file)"
   ]
  },
  {
   "cell_type": "code",
   "execution_count": 2,
   "metadata": {},
   "outputs": [
    {
     "name": "stdout",
     "output_type": "stream",
     "text": [
      "File: /export/home/ucakir/MEGS/MEGS/src/megs/data/galaxy_data.hdf5\n",
      "Group: Galaxies\n",
      "    Group: Attributes\n",
      "        Dataset: halo_id (float32) ((12484,))\n",
      "        Dataset: mass (float32) ((12484,))\n",
      "    Group: Particles\n",
      "        Group: stars\n",
      "            Group: Images\n",
      "                Group: dim2\n",
      "                    Dataset: GFM_Metallicity (float32) ((12484, 64, 64))\n",
      "                    Dataset: GFM_StellarFormationTime (float32) ((12484, 64, 64))\n",
      "                    Dataset: Masses (float32) ((12484, 64, 64))\n",
      "                Group: dim3\n",
      "                    Dataset: GFM_Metallicity (float32) ((12484, 64, 64, 64))\n",
      "                    Dataset: GFM_StellarFormationTime (float32) ((12484, 64, 64, 64))\n",
      "                    Dataset: Masses (float32) ((12484, 64, 64, 64))\n"
     ]
    }
   ],
   "source": [
    "data = DataLoader(\"/export/home/ucakir/MEGS/MEGS/src/megs/data/galaxy_data.hdf5\", m_min = 8)\n"
   ]
  },
  {
   "cell_type": "code",
   "execution_count": 3,
   "metadata": {},
   "outputs": [],
   "source": [
    "norm = image.norm # Normalization function\n",
    "lower = 0.25\n",
    "upper = 1.0\n",
    "norm_function_args = {\"Masses\": {\"takelog\": True, \"plusone\": True,\"lower\": lower, \"upper\": upper},\n",
    "                     \"GFM_Metallicity\": {\"takelog\": True, \"plusone\": True, \"lower\": 0.25, \"upper\": upper},\n",
    "                     \"GFM_StellarFormationTime\": {\"takelog\": True, \"plusone\": True, \"lower\": 0.25, \"upper\": upper},\n",
    "                    \n",
    "}\n",
    "\n"
   ]
  },
  {
   "cell_type": "code",
   "execution_count": 4,
   "metadata": {},
   "outputs": [
    {
     "name": "stdout",
     "output_type": "stream",
     "text": [
      "Creating datamatrix with the following fields:\n",
      "===============================================\n",
      "Particle type:  stars\n",
      "Fields:  ['GFM_Metallicity', 'GFM_StellarFormationTime', 'Masses']\n",
      "Dimension:  dim2\n",
      "Default arguments are used for the fields that are not specified in the norm_function_kwargs\n",
      "===============================================\n",
      "Created datamatrix with shape:  (12484, 12288)\n"
     ]
    }
   ],
   "source": [
    "mm = mPCA(data, norm_function = norm, norm_function_kwargs=norm_function_args, dim = 2)"
   ]
  },
  {
   "cell_type": "code",
   "execution_count": 5,
   "metadata": {},
   "outputs": [],
   "source": [
    "mm.fit(n_components = 512, show_results = False)"
   ]
  },
  {
   "cell_type": "code",
   "execution_count": 6,
   "metadata": {},
   "outputs": [],
   "source": [
    "original = mm.get_images()\n",
    "eigengalaxies = mm.get_eigengalaxies()\n",
    "means = mm.get_means()\n",
    "scores = mm.scores\n",
    "pca_projection = mm.inverse_transformed_datamatrix.reshape(original.shape)"
   ]
  },
  {
   "cell_type": "code",
   "execution_count": null,
   "metadata": {},
   "outputs": [],
   "source": [
    "def reconstruct(galindex, col, original=original, scores=scores, eigen=eigengalaxies, means=means, plot=True, cmap=None, \n",
    "                savepath = None, show = True, labelsize=20,w_pad = 0.1,h_pad = 0.1, text_coords=(-32,32), start_index = 1):\n",
    "    og = original[galindex]\n",
    "    \n",
    "\n",
    "    # Calculate the range for the residue images\n",
    "    \n",
    "    fields = [\"Metallicity\", \"Stellar Age\", \"Masses\"]\n",
    "    if cmap is None:\n",
    "        cmap = {\"Metallicity\": \"magma\", \"Stellar Age\": \"gist_heat\", \"Masses\": \"cividis\"}\n",
    "    ncomp = start_index\n",
    "    col = int(col)+1\n",
    "    figsize = (len(fields)*5+7, col*5)\n",
    "    if plot:\n",
    "        fig = plt.figure(figsize=figsize)\n",
    "        gs = GridSpec(col, len(fields)+1, wspace=0, hspace=0)  # Adjust width ratios to accommodate the colorbar\n",
    "\n",
    "        for i in range(col):\n",
    "            \n",
    "            ax1 = fig.add_subplot(gs[i, 0])\n",
    "            ax2 = fig.add_subplot(gs[i, 1])\n",
    "            ax3 = fig.add_subplot(gs[i, 2])\n",
    "            if i==0:\n",
    "                ax1.set_title(fields[0],fontsize=labelsize)\n",
    "                ax2.set_title(fields[1], fontsize=labelsize)\n",
    "                ax3.set_title(fields[2], fontsize=labelsize)\n",
    "            if i == col-1:\n",
    "                ax1.text(*text_coords, \"Original\", fontsize=labelsize, verticalalignment='center', horizontalalignment='left')\n",
    "                im = ax1.imshow(og[0], cmap=cmap[fields[0]], vmin=0, vmax=1)\n",
    "                ax2.imshow(og[1], cmap=cmap[fields[1]])\n",
    "                ax3.imshow(og[2], cmap=cmap[fields[2]])\n",
    "            else:\n",
    "                score = scores[galindex][:ncomp]\n",
    "                eig = eigen[:ncomp]\n",
    "                eig = eig.reshape(ncomp, len(fields) * og.shape[1] ** 2)\n",
    "                means = means.reshape(-1)\n",
    "                reconstructed = np.dot(score, eig) + means\n",
    "                reconstructed = reconstructed.reshape(len(fields), 64, 64)\n",
    "                #residue = og - reconstructed.reshape(len(fields), 64, 64)\n",
    "                [ax.imshow(reconstructed[i], cmap=cmap[fields[i]]) for i,ax in enumerate([ax1,ax2,ax3])]\n",
    "                ax1.text(*text_coords, f\"n={ncomp}\", fontsize=labelsize, verticalalignment='center', horizontalalignment='left')\n",
    "                ncomp = ncomp * 2\n",
    "            [ax.axis(\"off\") for ax in [ax1,ax2,ax3]]\n",
    "          \n",
    "      \n",
    "                \n",
    "        # Add a single colorbar on the right side\n",
    "       # cax = fig.add_subplot(gs[:, 3])\n",
    "       # cbar = plt.colorbar(im, cax=cax)\n",
    "        #cbar.ax.tick_params(labelsize=10)\n",
    "        #cbar.set_label(, fontsize=labelsize)\n",
    "\n",
    "        plt.tight_layout(w_pad = w_pad, h_pad =h_pad)\n",
    " \n",
    "\n",
    "        if savepath is not None:\n",
    "            plt.savefig(savepath, dpi=300, bbox_inches='tight')\n",
    "        if show: plt.show()"
   ]
  }
 ],
 "metadata": {
  "kernelspec": {
   "display_name": "Python 3",
   "language": "python",
   "name": "python3"
  },
  "language_info": {
   "codemirror_mode": {
    "name": "ipython",
    "version": 3
   },
   "file_extension": ".py",
   "mimetype": "text/x-python",
   "name": "python",
   "nbconvert_exporter": "python",
   "pygments_lexer": "ipython3",
   "version": "3.8.10"
  },
  "orig_nbformat": 4
 },
 "nbformat": 4,
 "nbformat_minor": 2
}
