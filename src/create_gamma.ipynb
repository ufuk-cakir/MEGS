{
 "cells": [
  {
   "cell_type": "code",
   "execution_count": 1,
   "metadata": {},
   "outputs": [],
   "source": [
    "from megs.data import Gamma "
   ]
  },
  {
   "cell_type": "code",
   "execution_count": 2,
   "metadata": {},
   "outputs": [],
   "source": [
    "from megs.data.simulations import select_illustris_galaxies"
   ]
  },
  {
   "cell_type": "code",
   "execution_count": 3,
   "metadata": {},
   "outputs": [
    {
     "name": "stdout",
     "output_type": "stream",
     "text": [
      "Found 11975 galaxies with stellar mass between 3162277660.1683793 and 10000000000000 Msun/h.\n"
     ]
    },
    {
     "data": {
      "text/plain": [
       "array([     0,      1,      2, ..., 727485, 738596, 752194])"
      ]
     },
     "execution_count": 3,
     "metadata": {},
     "output_type": "execute_result"
    }
   ],
   "source": [
    "select_illustris_galaxies(basepath=\"/export/data/ucakir/TNG100/TNG100-1/output/\", snapshot = 99, M_min = 10**9.5, M_max = 10**13, particle_type=\"stars\")"
   ]
  },
  {
   "cell_type": "code",
   "execution_count": 4,
   "metadata": {},
   "outputs": [],
   "source": [
    "import numpy as np \n",
    "import h5py\n",
    "\n",
    "halo_ids = np.load(\"/export/home/ucakir/MEGS/MEGS/src/gamma_ids_outlier_removed.npy\")\n",
    "outlier_ids = np.load(\"/export/home/ucakir/MEGS/MEGS/src/outlier_ids.npy\")\n",
    "\n",
    "old_datapath = \"/export/home/ucakir/MEGS/MEGS/src/megs/data/galaxy_data.hdf5\"\n",
    "new_gamma_path = \"/export/data/ucakir/final_gamma.hdf5\""
   ]
  },
  {
   "cell_type": "code",
   "execution_count": 5,
   "metadata": {},
   "outputs": [
    {
     "name": "stdout",
     "output_type": "stream",
     "text": [
      "(11975,)\n"
     ]
    }
   ],
   "source": [
    "gamma_ids = np.load(\"/export/home/ucakir/MEGS/MEGS/src/megs/gamma_ids.npy\")\n",
    "print(gamma_ids.shape)"
   ]
  },
  {
   "cell_type": "code",
   "execution_count": 6,
   "metadata": {},
   "outputs": [
    {
     "name": "stdout",
     "output_type": "stream",
     "text": [
      "(11778,)\n"
     ]
    }
   ],
   "source": [
    "print(halo_ids.shape)"
   ]
  },
  {
   "cell_type": "code",
   "execution_count": 7,
   "metadata": {},
   "outputs": [
    {
     "name": "stdout",
     "output_type": "stream",
     "text": [
      "File: /export/home/ucakir/MEGS/MEGS/src/megs/data/galaxy_data.hdf5\n",
      "Group: Galaxies\n",
      "    Group: Attributes\n",
      "        Dataset: halo_id (float32) ((12484,))\n",
      "        Dataset: mass (float32) ((12484,))\n",
      "    Group: Particles\n",
      "        Group: stars\n",
      "            Group: Images\n",
      "                Group: dim2\n",
      "                    Dataset: GFM_Metallicity (float32) ((12484, 64, 64))\n",
      "                    Dataset: GFM_StellarFormationTime (float32) ((12484, 64, 64))\n",
      "                    Dataset: Masses (float32) ((12484, 64, 64))\n",
      "                Group: dim3\n",
      "                    Dataset: GFM_Metallicity (float32) ((12484, 64, 64, 64))\n",
      "                    Dataset: GFM_StellarFormationTime (float32) ((12484, 64, 64, 64))\n",
      "                    Dataset: Masses (float32) ((12484, 64, 64, 64))\n"
     ]
    }
   ],
   "source": [
    "old_data = Gamma(old_datapath)"
   ]
  },
  {
   "cell_type": "code",
   "execution_count": 8,
   "metadata": {},
   "outputs": [
    {
     "name": "stdout",
     "output_type": "stream",
     "text": [
      "File: /export/data/ucakir/final_gamma.hdf5\n",
      "Group: Galaxies\n",
      "    Group: Attributes\n",
      "        Dataset: halo_id (float32) ((12484,))\n",
      "        Dataset: mass (float32) ((12484,))\n",
      "    Group: Particles\n",
      "        Group: stars\n",
      "            Group: Images\n",
      "                Group: dim2\n",
      "                    Dataset: GFM_Metallicity (float32) ((12484, 64, 64))\n",
      "                    Dataset: GFM_StellarFormationTime (float32) ((12484, 64, 64))\n",
      "                    Dataset: Masses (float32) ((12484, 64, 64))\n",
      "                Group: dim3\n",
      "                    Dataset: GFM_Metallicity (float32) ((12484, 64, 64, 64))\n",
      "                    Dataset: GFM_StellarFormationTime (float32) ((12484, 64, 64, 64))\n",
      "                    Dataset: Masses (float32) ((12484, 64, 64, 64))\n"
     ]
    }
   ],
   "source": [
    "new_gamma_data = Gamma(new_gamma_path)"
   ]
  },
  {
   "cell_type": "code",
   "execution_count": 8,
   "metadata": {},
   "outputs": [
    {
     "name": "stdout",
     "output_type": "stream",
     "text": [
      "File: /export/home/ucakir/MEGS/MEGS/src/megs/data/galaxy_data.hdf5\n",
      "Group: Galaxies\n",
      "    Group: Attributes\n",
      "        Dataset: halo_id (float32) ((12484,))\n",
      "        Dataset: mass (float32) ((12484,))\n",
      "    Group: Particles\n",
      "        Group: stars\n",
      "            Group: Images\n",
      "                Group: dim2\n",
      "                    Dataset: GFM_Metallicity (float32) ((12484, 64, 64))\n",
      "                    Dataset: GFM_StellarFormationTime (float32) ((12484, 64, 64))\n",
      "                    Dataset: Masses (float32) ((12484, 64, 64))\n",
      "                Group: dim3\n",
      "                    Dataset: GFM_Metallicity (float32) ((12484, 64, 64, 64))\n",
      "                    Dataset: GFM_StellarFormationTime (float32) ((12484, 64, 64, 64))\n",
      "                    Dataset: Masses (float32) ((12484, 64, 64, 64))\n"
     ]
    },
    {
     "data": {
      "text/plain": [
       "(11727,)"
      ]
     },
     "execution_count": 8,
     "metadata": {},
     "output_type": "execute_result"
    }
   ],
   "source": [
    "old_data = Gamma(old_datapath)\n",
    "ids_in_old = old_data.get_attribute(\"halo_id\")\n",
    "\n",
    "mask = np.isin(ids_in_old, gamma_ids)\n",
    "# filter out the outliers\n",
    "mask = np.logical_and(mask, ~np.isin(ids_in_old, outlier_ids))\n",
    "\n",
    "old_data.mask = mask\n",
    "old_data.get_attribute(\"halo_id\").shape\n"
   ]
  },
  {
   "cell_type": "code",
   "execution_count": 26,
   "metadata": {},
   "outputs": [],
   "source": [
    "new_halo_ids = old_data.get_attribute(\"halo_id\")\n",
    "new_mass = old_data.get_attribute(\"mass\")\n",
    "new_metallicity_image_2d =old_data.get_image(\"stars\", \"GFM_Metallicity\",dim = 2)\n",
    "new_stellar_age_2d = old_data.get_image(\"stars\", \"GFM_StellarFormationTime\",dim = 2)\n",
    "new_masses_2d = old_data.get_image(\"stars\", \"Masses\",dim = 2)\n",
    "\n",
    "new_metallicity_image_3d =old_data.get_image(\"stars\", \"GFM_Metallicity\",dim = 3)\n",
    "new_stellar_age_3d = old_data.get_image(\"stars\", \"GFM_StellarFormationTime\",dim = 3)\n",
    "new_masses_3d = old_data.get_image(\"stars\", \"Masses\",dim = 3)\n"
   ]
  },
  {
   "cell_type": "code",
   "execution_count": null,
   "metadata": {},
   "outputs": [],
   "source": []
  },
  {
   "cell_type": "code",
   "execution_count": 9,
   "metadata": {},
   "outputs": [
    {
     "ename": "KeyError",
     "evalue": "'Unable to open object (component not found)'",
     "output_type": "error",
     "traceback": [
      "\u001b[0;31m---------------------------------------------------------------------------\u001b[0m",
      "\u001b[0;31mKeyError\u001b[0m                                  Traceback (most recent call last)",
      "\u001b[1;32m/export/home/ucakir/MEGS/MEGS/src/create_gamma.ipynb Zelle 12\u001b[0m line \u001b[0;36m1\n\u001b[1;32m      <a href='vscode-notebook-cell://ssh-remote%2Bhgsgpu02.iwr.uni-heidelberg.de/export/home/ucakir/MEGS/MEGS/src/create_gamma.ipynb#X24sdnNjb2RlLXJlbW90ZQ%3D%3D?line=6'>7</a>\u001b[0m \u001b[39m# OPen new file\u001b[39;00m\n\u001b[1;32m      <a href='vscode-notebook-cell://ssh-remote%2Bhgsgpu02.iwr.uni-heidelberg.de/export/home/ucakir/MEGS/MEGS/src/create_gamma.ipynb#X24sdnNjb2RlLXJlbW90ZQ%3D%3D?line=7'>8</a>\u001b[0m \u001b[39m# overvrite the old file\u001b[39;00m\n\u001b[1;32m      <a href='vscode-notebook-cell://ssh-remote%2Bhgsgpu02.iwr.uni-heidelberg.de/export/home/ucakir/MEGS/MEGS/src/create_gamma.ipynb#X24sdnNjb2RlLXJlbW90ZQ%3D%3D?line=8'>9</a>\u001b[0m \u001b[39mwith\u001b[39;00m h5py\u001b[39m.\u001b[39mFile(new_gamma_path,\u001b[39m\"\u001b[39m\u001b[39mw\u001b[39m\u001b[39m\"\u001b[39m) \u001b[39mas\u001b[39;00m f:\n\u001b[0;32m---> <a href='vscode-notebook-cell://ssh-remote%2Bhgsgpu02.iwr.uni-heidelberg.de/export/home/ucakir/MEGS/MEGS/src/create_gamma.ipynb#X24sdnNjb2RlLXJlbW90ZQ%3D%3D?line=9'>10</a>\u001b[0m     \u001b[39mfor\u001b[39;00m parameter \u001b[39min\u001b[39;00m f[\u001b[39m\"\u001b[39;49m\u001b[39mGalaxies/Attributes\u001b[39;49m\u001b[39m\"\u001b[39;49m]\u001b[39m.\u001b[39mkeys():\n\u001b[1;32m     <a href='vscode-notebook-cell://ssh-remote%2Bhgsgpu02.iwr.uni-heidelberg.de/export/home/ucakir/MEGS/MEGS/src/create_gamma.ipynb#X24sdnNjb2RlLXJlbW90ZQ%3D%3D?line=10'>11</a>\u001b[0m         f[\u001b[39m\"\u001b[39m\u001b[39mGalaxies/Attributes\u001b[39m\u001b[39m\"\u001b[39m][parameter] \u001b[39m=\u001b[39m old_data\u001b[39m.\u001b[39mget_attribute(parameter)\n\u001b[1;32m     <a href='vscode-notebook-cell://ssh-remote%2Bhgsgpu02.iwr.uni-heidelberg.de/export/home/ucakir/MEGS/MEGS/src/create_gamma.ipynb#X24sdnNjb2RlLXJlbW90ZQ%3D%3D?line=12'>13</a>\u001b[0m     \u001b[39mfor\u001b[39;00m d \u001b[39min\u001b[39;00m tqdm(f[\u001b[39m\"\u001b[39m\u001b[39mGalaixes\u001b[39m\u001b[39m\"\u001b[39m][\u001b[39m\"\u001b[39m\u001b[39mParticles\u001b[39m\u001b[39m\"\u001b[39m][particle][\u001b[39m\"\u001b[39m\u001b[39mImages\u001b[39m\u001b[39m\"\u001b[39m]\u001b[39m.\u001b[39mkeys()):\n",
      "File \u001b[0;32mh5py/_objects.pyx:54\u001b[0m, in \u001b[0;36mh5py._objects.with_phil.wrapper\u001b[0;34m()\u001b[0m\n",
      "File \u001b[0;32mh5py/_objects.pyx:55\u001b[0m, in \u001b[0;36mh5py._objects.with_phil.wrapper\u001b[0;34m()\u001b[0m\n",
      "File \u001b[0;32m~/.local/lib/python3.8/site-packages/h5py/_hl/group.py:328\u001b[0m, in \u001b[0;36mGroup.__getitem__\u001b[0;34m(self, name)\u001b[0m\n\u001b[1;32m    326\u001b[0m         \u001b[39mraise\u001b[39;00m \u001b[39mValueError\u001b[39;00m(\u001b[39m\"\u001b[39m\u001b[39mInvalid HDF5 object reference\u001b[39m\u001b[39m\"\u001b[39m)\n\u001b[1;32m    327\u001b[0m \u001b[39melif\u001b[39;00m \u001b[39misinstance\u001b[39m(name, (\u001b[39mbytes\u001b[39m, \u001b[39mstr\u001b[39m)):\n\u001b[0;32m--> 328\u001b[0m     oid \u001b[39m=\u001b[39m h5o\u001b[39m.\u001b[39;49mopen(\u001b[39mself\u001b[39;49m\u001b[39m.\u001b[39;49mid, \u001b[39mself\u001b[39;49m\u001b[39m.\u001b[39;49m_e(name), lapl\u001b[39m=\u001b[39;49m\u001b[39mself\u001b[39;49m\u001b[39m.\u001b[39;49m_lapl)\n\u001b[1;32m    329\u001b[0m \u001b[39melse\u001b[39;00m:\n\u001b[1;32m    330\u001b[0m     \u001b[39mraise\u001b[39;00m \u001b[39mTypeError\u001b[39;00m(\u001b[39m\"\u001b[39m\u001b[39mAccessing a group is done with bytes or str, \u001b[39m\u001b[39m\"\u001b[39m\n\u001b[1;32m    331\u001b[0m                     \u001b[39m\"\u001b[39m\u001b[39m not \u001b[39m\u001b[39m{}\u001b[39;00m\u001b[39m\"\u001b[39m\u001b[39m.\u001b[39mformat(\u001b[39mtype\u001b[39m(name)))\n",
      "File \u001b[0;32mh5py/_objects.pyx:54\u001b[0m, in \u001b[0;36mh5py._objects.with_phil.wrapper\u001b[0;34m()\u001b[0m\n",
      "File \u001b[0;32mh5py/_objects.pyx:55\u001b[0m, in \u001b[0;36mh5py._objects.with_phil.wrapper\u001b[0;34m()\u001b[0m\n",
      "File \u001b[0;32mh5py/h5o.pyx:190\u001b[0m, in \u001b[0;36mh5py.h5o.open\u001b[0;34m()\u001b[0m\n",
      "\u001b[0;31mKeyError\u001b[0m: 'Unable to open object (component not found)'"
     ]
    }
   ],
   "source": [
    "from tqdm import tqdm\n",
    "FIELDS = [\"GFM_Metallicity\", \"GFM_StellarFormationTime\", \"Masses\"]\n",
    "attributes = [\"mass\", \"halo_id\"]\n",
    "\n",
    "particle = \"stars\"\n",
    "from megs.data.generate import _create_data_structure\n",
    "\n",
    "# Create the data structure\n",
    "_create_data_structure(\n",
    "    n_galaxies=len(new_halo_ids),\n",
    "    image_res = 64,\n",
    "    galaxy_parameters=attributes,\n",
    "    particle_types = \"stars\",\n",
    "    fields = FIELDS,\n",
    "    path = new_gamma_path,\n",
    ")\n",
    "\n",
    "\n",
    "# OPen new file\n",
    "# overvrite the old file\n",
    "with h5py.File(new_gamma_path,\"w\") as f:\n",
    "    for parameter in f[\"Galaxies/Attributes\"].keys():\n",
    "        f[\"Galaxies/Attributes\"][parameter] = old_data.get_attribute(parameter)\n",
    "    \n",
    "    for d in tqdm(f[\"Galaixes\"][\"Particles\"][particle][\"Images\"].keys()):\n",
    "        for field in tqdm(f[\"Galaxies\"][\"Particles\"][particle][\"Images\"][\n",
    "                        d\n",
    "                    ].keys()):\n",
    "                        # Get the image\n",
    "                        dim = int(d[-1]) \n",
    "                        print(dim)\n",
    "                        f[\"Galaixes\"][\"Particles\"][particle][\"Images\"][d][field] = old_data.get_image(particle, field, dim = dim)\n",
    "                        \n",
    "    "
   ]
  },
  {
   "cell_type": "code",
   "execution_count": 11,
   "metadata": {},
   "outputs": [
    {
     "name": "stdout",
     "output_type": "stream",
     "text": [
      "<KeysViewHDF5 []>\n"
     ]
    }
   ],
   "source": [
    "with h5py.File(new_gamma_path,\"r\") as f:\n",
    "    print(f.keys())"
   ]
  },
  {
   "cell_type": "code",
   "execution_count": 23,
   "metadata": {},
   "outputs": [],
   "source": [
    "# Check if there are ids in ids_in_old but not in gamma_ids\n",
    "# If there are, we need to remove them from the old_data\n",
    "test = []\n",
    "for i in ids_in_old:\n",
    "    if i not in gamma_ids:\n",
    "        #check if it is an outlier\n",
    "        if i not in outlier_ids:\n",
    "            test.append(i)"
   ]
  },
  {
   "cell_type": "code",
   "execution_count": 24,
   "metadata": {},
   "outputs": [
    {
     "data": {
      "text/plain": [
       "547"
      ]
     },
     "execution_count": 24,
     "metadata": {},
     "output_type": "execute_result"
    }
   ],
   "source": [
    "len(test)"
   ]
  }
 ],
 "metadata": {
  "kernelspec": {
   "display_name": "Python 3",
   "language": "python",
   "name": "python3"
  },
  "language_info": {
   "codemirror_mode": {
    "name": "ipython",
    "version": 3
   },
   "file_extension": ".py",
   "mimetype": "text/x-python",
   "name": "python",
   "nbconvert_exporter": "python",
   "pygments_lexer": "ipython3",
   "version": "3.8.10"
  },
  "orig_nbformat": 4
 },
 "nbformat": 4,
 "nbformat_minor": 2
}
