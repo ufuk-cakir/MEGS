{
 "cells": [
  {
   "attachments": {},
   "cell_type": "markdown",
   "metadata": {},
   "source": [
    "# Data Structure:\n",
    "- Galaxies (group)\n",
    "  - Attributes(group)\n",
    "    - halo_ids (dataset)\n",
    "    - mass (dataset)\n",
    "    - ...\n",
    "  - Particles (group)\n",
    "    - DM (group)\n",
    "      - ...\n",
    "    - Stars (group)\n",
    "      - Maps (group)\n",
    "        - Mass (dataset)\n",
    "        - Metal (dataset)\n",
    "        - Age (dataset)\n",
    "      - ...\n",
    "    - Gas (group)\n",
    "      - ...\n"
   ]
  },
  {
   "cell_type": "code",
   "execution_count": 1,
   "metadata": {},
   "outputs": [],
   "source": [
    "import h5py\n",
    "# Set the parameters\n",
    "simulation = \"IllustrisTNG\" # Simulation name\n",
    "particle_types = [\"stars\"] # Particle types\n",
    "image_res = (64,64) # Image resolution\n",
    "halo_ids= [15,20]\n",
    "\n",
    "fields = {\"Masses\":False, \n",
    "          \"GFM_Metallicity\":False,\n",
    "          \"GFM_StellarFormationTime\":True} # Fields to calculated images for and if they are mass weighted or not\n",
    "plot_factor = 10 # Plot factor for the image: plot_factor*halfmassrad = image range\n",
    "\n",
    "galaxy_parameters = [\"mass\",\"halo_id\"] # Attributes of Galaxy Class to be saved for each galaxy (TODO: This atm only works for scalar parameters)\n",
    "basePath = f\"/export/data/ucakir/TNG100/TNG100-1/output/\"\n",
    "\n",
    "# Arguments passed to the galaxy class. Halo ID and particle type are overwritten in the loop.\n",
    "kwargs = {\"base_path\":basePath,\"halo_id\":0,\"particle_type\": \"stars\", \"snapshot\":99}\n",
    "\n",
    "\n",
    "# Open the HDF5 file in \"w\" mode to create a new file\n",
    "with h5py.File(\"galaxy_data.hdf5\", \"w\") as f:\n",
    "    # Create the Galaxies group\n",
    "    galaxies_group = f.create_group(\"Galaxies\")\n",
    "    \n",
    "    # Create the datasets for the galaxy parameters\n",
    "    for parameter in galaxy_parameters:\n",
    "        galaxies_group.create_dataset(parameter, shape=(len(halo_ids),), maxshape=(None,))    \n",
    "    \n",
    "    particles_group = galaxies_group.create_group(\"Particles\")\n",
    "    # Create the Particle Types group\n",
    "    for particle_type in particle_types:\n",
    "        particle_type_group = particles_group.create_group(particle_type)\n",
    "        \n",
    "        # Create the Images group\n",
    "        images_group = particle_type_group.create_group(\"Images\")\n",
    "        \n",
    "        # Create the datasets for the images\n",
    "        for field in fields:\n",
    "            images_group.create_dataset(field, shape=(len(halo_ids), *image_res), maxshape=(None, None,None))\n",
    "    "
   ]
  },
  {
   "cell_type": "code",
   "execution_count": 9,
   "metadata": {},
   "outputs": [],
   "source": [
    "import tables\n",
    "tables.file._open_files.close_all()"
   ]
  },
  {
   "cell_type": "code",
   "execution_count": 3,
   "metadata": {},
   "outputs": [
    {
     "name": "stderr",
     "output_type": "stream",
     "text": [
      "0it [00:00, ?it/s]"
     ]
    },
    {
     "name": "stdout",
     "output_type": "stream",
     "text": [
      "No unit conversion for Field GFM_Metallicity. Return without changes.\n"
     ]
    },
    {
     "name": "stderr",
     "output_type": "stream",
     "text": [
      "1it [00:13, 13.90s/it]"
     ]
    },
    {
     "name": "stdout",
     "output_type": "stream",
     "text": [
      "No unit conversion for Field GFM_Metallicity. Return without changes.\n"
     ]
    },
    {
     "name": "stderr",
     "output_type": "stream",
     "text": [
      "2it [00:21, 10.68s/it]\n"
     ]
    }
   ],
   "source": [
    "from galaxy import Galaxy\n",
    "from tqdm import tqdm\n",
    "# Open the HDF5 file in \"append\" mode\n",
    "with h5py.File(\"galaxy_data.hdf5\", \"a\") as f:\n",
    "\n",
    "    # Loop through the galaxies\n",
    "    for index, haloid in tqdm(enumerate(halo_ids)):\n",
    "        # Create the galaxy object\n",
    "        kwargs[\"halo_id\"] = haloid\n",
    "        \n",
    "        g = Galaxy(simulation= simulation, **kwargs) \n",
    "        \n",
    "        # Get the galaxy parameters\n",
    "        for parameter in f[\"Galaxies\"].keys():\n",
    "            if parameter == \"Particles\":\n",
    "                continue\n",
    "            if hasattr(g,parameter):\n",
    "                f[\"Galaxies\"][parameter][index] = getattr(g,parameter)\n",
    "            else: \n",
    "                raise ValueError(f\"Galaxy class does not have the attribute {parameter}\")\n",
    "            \n",
    "        # Get the particle data\n",
    "        for particle_type in f[\"Galaxies\"][\"Particles\"].keys():\n",
    "            # Get the particle data\n",
    "            for field in f[\"Galaxies\"][\"Particles\"][particle_type][\"Images\"].keys():\n",
    "                # Get the image\n",
    "                image = g.get_image(field, plot_factor, image_res)\n",
    "                f[\"Galaxies\"][\"Particles\"][particle_type][\"Images\"][field][index] = image\n",
    "        \n",
    "        \n",
    "        \n",
    "        \n",
    "        \n",
    "        \n",
    "        \n",
    "        \n",
    "        '''        \n",
    "        star_mass_data_i = calculate_star_mass_data(i)\n",
    "        star_metal_data_i = calculate_star_metal_data(i)\n",
    "        star_age_data_i = calculate_star_age_data(i)\n",
    "\n",
    "        # Append the data to the datasets\n",
    "        mass_dataset.resize((i + 1,))\n",
    "        mass_dataset[i] = mass_data_i\n",
    "\n",
    "        stars_mass_dataset.resize((i + 1,))\n",
    "        stars_mass_dataset[i] = star_mass_data_i\n",
    "\n",
    "        stars_metal_dataset.resize((i + 1,))\n",
    "        stars_metal_dataset[i] = star_metal_data_i\n",
    "\n",
    "        stars_age_dataset.resize((i + 1,))\n",
    "        stars_age_dataset[i] = star_age_data_i\n",
    "        '''\n"
   ]
  },
  {
   "cell_type": "code",
   "execution_count": 13,
   "metadata": {},
   "outputs": [
    {
     "data": {
      "image/png": "[encoded data removed]",
      "text/plain": [
       "<Figure size 640x480 with 1 Axes>"
      ]
     },
     "metadata": {},
     "output_type": "display_data"
    }
   ],
   "source": [
    "file = h5py.File(\"galaxy_data.hdf5\", \"r\")\n",
    "\n",
    "from matplotlib import pyplot as plt\n",
    "\n",
    "plt.imshow(file[\"Galaxies/Particles/stars/Images/Masses\"][1])\n",
    "\n",
    "\n",
    "\n",
    "\n",
    "\n",
    "\n",
    "\n",
    "\n",
    "\n",
    "\n",
    "file.close()"
   ]
  }
 ],
 "metadata": {
  "kernelspec": {
   "display_name": "Python 3",
   "language": "python",
   "name": "python3"
  },
  "language_info": {
   "codemirror_mode": {
    "name": "ipython",
    "version": 3
   },
   "file_extension": ".py",
   "mimetype": "text/x-python",
   "name": "python",
   "nbconvert_exporter": "python",
   "pygments_lexer": "ipython3",
   "version": "3.8.10"
  },
  "orig_nbformat": 4
 },
 "nbformat": 4,
 "nbformat_minor": 2
}
