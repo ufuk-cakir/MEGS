{
 "cells": [
  {
   "cell_type": "code",
   "execution_count": 1,
   "metadata": {},
   "outputs": [],
   "source": [
    "datapath = \"/export/home/ucakir/MEGS/MEGS/src/megs/data/galaxy_data.hdf5\"\n",
    "import h5py"
   ]
  },
  {
   "cell_type": "code",
   "execution_count": 3,
   "metadata": {},
   "outputs": [
    {
     "name": "stdout",
     "output_type": "stream",
     "text": [
      "<Managed Device 0>, <Managed Device 1>, <Managed Device 2>, <Managed Device 3>, <Managed Device 4>, <Managed Device 5>, <Managed Device 6>, <Managed Device 7>\n"
     ]
    }
   ],
   "source": [
    "from numba import cuda\n",
    "print(cuda.gpus)"
   ]
  },
  {
   "cell_type": "code",
   "execution_count": 13,
   "metadata": {},
   "outputs": [
    {
     "ename": "ImportError",
     "evalue": "cannot import name 'Gamma' from 'megs.data' (/export/home/ucakir/MEGS/MEGS/src/megs/data/__init__.py)",
     "output_type": "error",
     "traceback": [
      "\u001b[0;31m---------------------------------------------------------------------------\u001b[0m",
      "\u001b[0;31mImportError\u001b[0m                               Traceback (most recent call last)",
      "\u001b[1;32m/export/home/ucakir/MEGS/MEGS/src/exp.ipynb Zelle 3\u001b[0m line \u001b[0;36m1\n\u001b[0;32m----> <a href='vscode-notebook-cell://ssh-remote%2Bhgsgpu02.iwr.uni-heidelberg.de/export/home/ucakir/MEGS/MEGS/src/exp.ipynb#W2sdnNjb2RlLXJlbW90ZQ%3D%3D?line=0'>1</a>\u001b[0m \u001b[39mfrom\u001b[39;00m \u001b[39mmegs\u001b[39;00m\u001b[39m.\u001b[39;00m\u001b[39mdata\u001b[39;00m \u001b[39mimport\u001b[39;00m Gamma\n",
      "\u001b[0;31mImportError\u001b[0m: cannot import name 'Gamma' from 'megs.data' (/export/home/ucakir/MEGS/MEGS/src/megs/data/__init__.py)"
     ]
    }
   ],
   "source": [
    "from megs.data import Gamma"
   ]
  },
  {
   "cell_type": "code",
   "execution_count": 4,
   "metadata": {},
   "outputs": [
    {
     "name": "stdout",
     "output_type": "stream",
     "text": [
      "File: /export/home/ucakir/MEGS/MEGS/src/megs/data/galaxy_data.hdf5\n",
      "Group: Galaxies\n",
      "    Group: Attributes\n",
      "        Dataset: halo_id (float32) ((12484,))\n",
      "        Dataset: mass (float32) ((12484,))\n",
      "    Group: Particles\n",
      "        Group: stars\n",
      "            Group: Images\n",
      "                Group: dim2\n",
      "                    Dataset: GFM_Metallicity (float32) ((12484, 64, 64))\n",
      "                    Dataset: GFM_StellarFormationTime (float32) ((12484, 64, 64))\n",
      "                    Dataset: Masses (float32) ((12484, 64, 64))\n",
      "                Group: dim3\n",
      "                    Dataset: GFM_Metallicity (float32) ((12484, 64, 64, 64))\n",
      "                    Dataset: GFM_StellarFormationTime (float32) ((12484, 64, 64, 64))\n",
      "                    Dataset: Masses (float32) ((12484, 64, 64, 64))\n"
     ]
    }
   ],
   "source": [
    "datapath = \"/export/home/ucakir/MEGS/MEGS/src/megs/data/galaxy_data.hdf5\"\n",
    "\n",
    "data = DataLoader(datapath)"
   ]
  },
  {
   "cell_type": "code",
   "execution_count": 5,
   "metadata": {},
   "outputs": [],
   "source": [
    "haloids = data.get_attribute(\"halo_id\").astype(int)"
   ]
  },
  {
   "cell_type": "code",
   "execution_count": 12,
   "metadata": {},
   "outputs": [
    {
     "name": "stdout",
     "output_type": "stream",
     "text": [
      "(12484,)\n"
     ]
    }
   ],
   "source": [
    "print(haloids.shape)"
   ]
  },
  {
   "cell_type": "code",
   "execution_count": 7,
   "metadata": {},
   "outputs": [],
   "source": [
    "import numpy as np"
   ]
  },
  {
   "cell_type": "code",
   "execution_count": 8,
   "metadata": {},
   "outputs": [],
   "source": [
    "gid = np.load(\"/export/home/ucakir/MEGS/MEGS/src/megs/gamma_ids.npy\")"
   ]
  },
  {
   "cell_type": "code",
   "execution_count": 10,
   "metadata": {},
   "outputs": [
    {
     "data": {
      "text/plain": [
       "(11924,)"
      ]
     },
     "execution_count": 10,
     "metadata": {},
     "output_type": "execute_result"
    }
   ],
   "source": [
    "np.intersect1d(haloids, gid).shape"
   ]
  },
  {
   "cell_type": "code",
   "execution_count": 11,
   "metadata": {},
   "outputs": [
    {
     "data": {
      "text/plain": [
       "(11975,)"
      ]
     },
     "execution_count": 11,
     "metadata": {},
     "output_type": "execute_result"
    }
   ],
   "source": [
    "gid.shape"
   ]
  },
  {
   "cell_type": "code",
   "execution_count": null,
   "metadata": {},
   "outputs": [],
   "source": []
  }
 ],
 "metadata": {
  "kernelspec": {
   "display_name": "Python 3",
   "language": "python",
   "name": "python3"
  },
  "language_info": {
   "codemirror_mode": {
    "name": "ipython",
    "version": 3
   },
   "file_extension": ".py",
   "mimetype": "text/x-python",
   "name": "python",
   "nbconvert_exporter": "python",
   "pygments_lexer": "ipython3",
   "version": "3.8.10"
  },
  "orig_nbformat": 4
 },
 "nbformat": 4,
 "nbformat_minor": 2
}
