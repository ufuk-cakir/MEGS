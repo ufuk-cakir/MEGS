{
 "cells": [
  {
   "cell_type": "code",
   "execution_count": null,
   "metadata": {},
   "outputs": [],
   "source": [
    "from megs import model\n",
    "from megs.data import image_modules\n",
    "\n",
    "import numpy as np\n",
    "import matplotlib.pyplot as plt"
   ]
  },
  {
   "cell_type": "code",
   "execution_count": null,
   "metadata": {},
   "outputs": [],
   "source": [
    "from megs import *"
   ]
  },
  {
   "cell_type": "code",
   "execution_count": null,
   "metadata": {},
   "outputs": [],
   "source": [
    "import megs"
   ]
  },
  {
   "cell_type": "code",
   "execution_count": null,
   "metadata": {},
   "outputs": [],
   "source": [
    "from megs.data import galaxy"
   ]
  },
  {
   "cell_type": "code",
   "execution_count": null,
   "metadata": {},
   "outputs": [],
   "source": [
    "data = model.DataLoader(\"/export/home/ucakir/MEGS/MEGS/data/galaxy_data.hdf5\", m_min = 8)"
   ]
  },
  {
   "cell_type": "code",
   "execution_count": null,
   "metadata": {},
   "outputs": [],
   "source": [
    "norm = image_modules.norm # Normalization function\n",
    "lower = 0.25\n",
    "upper = 1.0\n",
    "norm_function_args = {\"Masses\": {\"takelog\": True, \"plusone\": True,\"lower\": lower, \"upper\": upper},\n",
    "                     \"GFM_Metallicity\": {\"takelog\": True, \"plusone\": True, \"lower\": 0.1, \"upper\": upper},\n",
    "                     \"GFM_StellarFormationTime\": {\"takelog\": True, \"plusone\": True, \"lower\": 0.1, \"upper\": upper},\n",
    "                    \n",
    "}"
   ]
  },
  {
   "cell_type": "code",
   "execution_count": null,
   "metadata": {},
   "outputs": [],
   "source": [
    "plt.hist(np.log10(masses)) "
   ]
  },
  {
   "cell_type": "code",
   "execution_count": null,
   "metadata": {},
   "outputs": [],
   "source": [
    "morphmodel = model.mPCA(data, norm_function = norm, norm_function_kwargs=norm_function_args)"
   ]
  },
  {
   "cell_type": "code",
   "execution_count": null,
   "metadata": {},
   "outputs": [],
   "source": [
    "morphmodel.fit(n_components=60)"
   ]
  },
  {
   "cell_type": "code",
   "execution_count": null,
   "metadata": {},
   "outputs": [],
   "source": [
    "def show_pca_results(self):\n",
    "    fig, ax = plt.subplots(1, 2, figsize=(10, 5))\n",
    "    ax[0].plot(self.pca.explained_variance_ratio_)\n",
    "    ax[0].set_xlabel(\"Component\")\n",
    "    ax[0].set_ylabel(\"Explained variance ratio\")\n",
    "    ax[1].plot(np.cumsum(self.pca.explained_variance_ratio_))\n",
    "    ax[1].set_xlabel(\"Component\")\n",
    "    ax[1].set_ylabel(\"Cumulative explained variance ratio\")\n",
    "    plt.show()\n",
    "    \n",
    "    \n",
    "    field_length = len(self.data._image_fields[self.particle_type]) \n",
    "    \n",
    "    #Loop over different image fields\n",
    "    for index,field in enumerate(self.data._image_fields[self.particle_type]):\n",
    "\n",
    "        \n",
    "\n",
    "        rows = int(np.ceil(np.sqrt(self.pca.n_components)))\n",
    "        cols = int(np.ceil(self.pca.n_components/rows))\n",
    "        fig, ax = plt.subplots(rows, cols, figsize=(cols*3, rows*3))\n",
    "        for i in range(rows):\n",
    "            for j in range(cols):\n",
    "                if i*cols+j < self.pca.n_components:\n",
    "                    ax[i, j].imshow(self.eigengalaxies[i*cols+j][index])\n",
    "                    ax[i, j].set_title(f\"Component {i*cols+j}\")\n",
    "                    ax[i, j].axis(\"off\")\n",
    "        fig.suptitle(f\"Eigengalaxies:{field}\")\n",
    "        plt.show()\n",
    "        \n",
    "        \n",
    "    \n",
    "  \n",
    "    # Plot the mean galaxy\n",
    "    \n",
    "    fig, ax = plt.subplots(1,field_length, figsize = (field_length*3, 3))\n",
    "    for index,field in enumerate(self.data._image_fields[self.particle_type]):\n",
    "        ax[index].imshow(self.pca.mean_.reshape(field_length, *self._IMG_SHAPE)[index])\n",
    "        ax[index].set_title(f\"{field}\")\n",
    "        ax[index].axis(\"off\")\n",
    "    fig.suptitle(\"Mean Galaxy\")\n",
    "    plt.show() \n",
    "            \n",
    "            \n",
    "    #Calculate residue of random galaxy\n",
    "    randomind = np.random.randint(0, self.datamatrix.shape[0])\n",
    "    inverse_images = self.inverse_transformed_datamatrix[randomind].reshape(field_length, *self._IMG_SHAPE)\n",
    "    for index, field in enumerate(self.data._image_fields[self.particle_type]):\n",
    "        fig, ax = plt.subplots(1, 3, figsize=(6, 3))\n",
    "        \n",
    "        original = self.datamatrix[randomind].reshape(field_length, *self._IMG_SHAPE)[index]\n",
    "        \n",
    "        ax[0].imshow(original)\n",
    "        ax[0].set_title(f\"Original galaxy\")\n",
    "        ax[0].axis(\"off\")\n",
    "        ax[1].imshow(inverse_images[index])\n",
    "        ax[1].set_title(f\"Reconstructed galaxy\")\n",
    "        ax[1].axis(\"off\")\n",
    "        \n",
    "        # Calculate residue\n",
    "        residue = np.abs(original - inverse_images[index])\n",
    "        ax[2].imshow(residue)\n",
    "        ax[2].set_title(f\"Residue\")\n",
    "        ax[2].axis(\"off\")\n",
    "        \n",
    "        fig.suptitle(f\"Comparison of {field} field\")\n",
    "        plt.show()"
   ]
  },
  {
   "cell_type": "code",
   "execution_count": null,
   "metadata": {},
   "outputs": [],
   "source": [
    "show_pca_results(morphmodel)"
   ]
  },
  {
   "cell_type": "code",
   "execution_count": null,
   "metadata": {},
   "outputs": [],
   "source": [
    "mass = data.get_image(field=\"Masses\", particle_type=\"stars\", index = 20)\n",
    "metal = data.get_image(field=\"GFM_Metallicity\", particle_type=\"stars\", index = 20)\n",
    "age = data.get_image(field= \"GFM_StellarFormationTime\", particle_type=\"stars\", index = 20)\n",
    "\n",
    "\n",
    "#plot all three images\n",
    "fig, ax = plt.subplots(1, 3, figsize=(10, 5))\n",
    "ax[0].imshow(norm(mass,**norm_function_args[\"Masses\"]))\n",
    "ax[0].set_title(\"Mass\")\n",
    "ax[0].axis(\"off\")\n",
    "ax[1].imshow(norm(metal, **norm_function_args[\"GFM_Metallicity\"]))\n",
    "ax[1].set_title(\"Metallicity\")\n",
    "ax[1].axis(\"off\")\n",
    "ax[2].imshow(norm(age, **norm_function_args[\"GFM_StellarFormationTime\"]))\n",
    "ax[2].set_title(\"Age\")\n",
    "ax[2].axis(\"off\")\n",
    "plt.show()\n"
   ]
  },
  {
   "cell_type": "code",
   "execution_count": null,
   "metadata": {},
   "outputs": [],
   "source": [
    "compare(morphmodel,20)"
   ]
  },
  {
   "cell_type": "code",
   "execution_count": null,
   "metadata": {},
   "outputs": [],
   "source": [
    "eigen =morphmodel.eigengalaxies"
   ]
  },
  {
   "cell_type": "code",
   "execution_count": null,
   "metadata": {},
   "outputs": [],
   "source": []
  },
  {
   "cell_type": "code",
   "execution_count": null,
   "metadata": {},
   "outputs": [],
   "source": [
    "EIGENORDER = morphmodel.data._image_fields[\"stars\"]\n",
    "EIGENORDER"
   ]
  },
  {
   "cell_type": "code",
   "execution_count": null,
   "metadata": {},
   "outputs": [],
   "source": [
    "mass_eigen = eigen[:,EIGENORDER.index(\"Masses\")]\n",
    "metal_eigen = eigen[:,EIGENORDER.index(\"GFM_Metallicity\")]\n",
    "age_eigen = eigen[:,EIGENORDER.index(\"GFM_StellarFormationTime\")]"
   ]
  },
  {
   "cell_type": "code",
   "execution_count": 5,
   "metadata": {},
   "outputs": [],
   "source": [
    "string = \"dim2\"\n",
    "dim = int(string[3])"
   ]
  },
  {
   "cell_type": "code",
   "execution_count": 6,
   "metadata": {},
   "outputs": [
    {
     "data": {
      "text/plain": [
       "'2'"
      ]
     },
     "execution_count": 6,
     "metadata": {},
     "output_type": "execute_result"
    }
   ],
   "source": [
    "string[3]"
   ]
  },
  {
   "cell_type": "code",
   "execution_count": 3,
   "metadata": {},
   "outputs": [
    {
     "ename": "ValueError",
     "evalue": "invalid literal for int() with base 10: 'dim3'",
     "output_type": "error",
     "traceback": [
      "\u001b[0;31m---------------------------------------------------------------------------\u001b[0m",
      "\u001b[0;31mValueError\u001b[0m                                Traceback (most recent call last)",
      "\u001b[1;32m/export/home/ucakir/MEGS/MEGS/src/model_testing.ipynb Zelle 19\u001b[0m in \u001b[0;36m1\n\u001b[0;32m----> <a href='vscode-notebook-cell://ssh-remote%2Bhgsgpu01.iwr.uni-heidelberg.de/export/home/ucakir/MEGS/MEGS/src/model_testing.ipynb#X61sdnNjb2RlLXJlbW90ZQ%3D%3D?line=0'>1</a>\u001b[0m \u001b[39mint\u001b[39;49m(string)\n",
      "\u001b[0;31mValueError\u001b[0m: invalid literal for int() with base 10: 'dim3'"
     ]
    }
   ],
   "source": [
    "int(string)"
   ]
  },
  {
   "cell_type": "code",
   "execution_count": 2,
   "metadata": {},
   "outputs": [
    {
     "data": {
      "text/plain": [
       "3"
      ]
     },
     "execution_count": 2,
     "metadata": {},
     "output_type": "execute_result"
    }
   ],
   "source": [
    "dim"
   ]
  },
  {
   "cell_type": "code",
   "execution_count": null,
   "metadata": {},
   "outputs": [],
   "source": [
    "mean_img = morphmodel.pca.mean_.reshape(3, 64, 64)[EIGENORDER.index(\"Masses\")]\n",
    "mean_metal_img = morphmodel.pca.mean_.reshape(3, 64, 64)[EIGENORDER.index(\"GFM_Metallicity\")]\n",
    "mean_age_img = morphmodel.pca.mean_.reshape(3, 64, 64)[EIGENORDER.index(\"GFM_StellarFormationTime\")]"
   ]
  },
  {
   "cell_type": "code",
   "execution_count": null,
   "metadata": {},
   "outputs": [],
   "source": [
    "mass_img_normed = norm(mass, **norm_function_args[\"Masses\"])"
   ]
  },
  {
   "cell_type": "code",
   "execution_count": null,
   "metadata": {},
   "outputs": [],
   "source": [
    "morphmodel.pca.n_components"
   ]
  },
  {
   "cell_type": "code",
   "execution_count": null,
   "metadata": {},
   "outputs": [],
   "source": [
    "n_components = morphmodel.pca.n_components\n",
    "\n",
    "mass_img_centered = mass_img_normed - mean_img\n",
    "mass_img_centered_reshaped = mass_img_centered.reshape(64*64)\n",
    "mass_eigen_reshaped = mass_eigen.reshape(n_components,64*64)\n",
    "\n",
    "\n",
    "weights = np.dot(mass_img_centered_reshaped, mass_eigen_reshaped.T) "
   ]
  },
  {
   "cell_type": "code",
   "execution_count": null,
   "metadata": {},
   "outputs": [],
   "source": [
    "weights.shape"
   ]
  },
  {
   "cell_type": "code",
   "execution_count": null,
   "metadata": {},
   "outputs": [],
   "source": [
    "age_img = norm(age, **norm_function_args[\"GFM_StellarFormationTime\"]) - mean_age_img\n",
    "\n",
    "weights = np.dot(age_img.flatten(), age_eigen.reshape(n_components,64*64).T)"
   ]
  },
  {
   "cell_type": "code",
   "execution_count": null,
   "metadata": {},
   "outputs": [],
   "source": [
    "mass_eigen.shape"
   ]
  },
  {
   "cell_type": "code",
   "execution_count": null,
   "metadata": {},
   "outputs": [],
   "source": [
    "galaxy = morphmodel.datamatrix[20]"
   ]
  },
  {
   "cell_type": "code",
   "execution_count": null,
   "metadata": {},
   "outputs": [],
   "source": [
    "galaxy.shape"
   ]
  },
  {
   "cell_type": "code",
   "execution_count": null,
   "metadata": {},
   "outputs": [],
   "source": [
    "all_eigen = eigen.reshape(60,-1)\n",
    "all_means = morphmodel.pca.mean_"
   ]
  },
  {
   "cell_type": "code",
   "execution_count": null,
   "metadata": {},
   "outputs": [],
   "source": [
    "weights = np.dot(galaxy[:64*64] - all_means[:64*64], all_eigen[:,:64*64].T)\n",
    "\n",
    "inverse = np.dot(weights, all_eigen) + all_means\n",
    "#images = inverse.reshape(3, 64, 64)\n",
    "\n",
    "images = inverse.reshape(3,64,64)\n",
    "\n",
    "\n",
    "fig,ax = plt.subplots(1,3, figsize = (10,5))\n",
    "ax[0].imshow(images[0])\n",
    "ax[1].imshow(images[1])\n",
    "ax[2].imshow(images[2])"
   ]
  },
  {
   "cell_type": "code",
   "execution_count": null,
   "metadata": {},
   "outputs": [],
   "source": [
    "all_eigen.shape"
   ]
  },
  {
   "cell_type": "code",
   "execution_count": null,
   "metadata": {},
   "outputs": [],
   "source": [
    "reconstruction_mass_img = np.dot(weights, mass_eigen.reshape(n_components,64*64)) + mean_img.flatten()\n",
    "reconstruction_metal_img = np.dot(weights, metal_eigen.reshape(n_components,64*64)) + mean_metal_img.flatten()\n",
    "reconstruction_age_img = np.dot(weights, age_eigen.reshape(n_components,64*64)) + mean_age_img.flatten()\n",
    "\n",
    "\n",
    "# show the reconstructed images\n",
    "\n",
    "fig, ax = plt.subplots(1, 3, figsize=(10, 5))\n",
    "\n",
    "ax[0].imshow(reconstruction_mass_img.reshape(64,64))\n",
    "ax[0].set_title(\"Mass\")\n",
    "ax[0].axis(\"off\")\n",
    "\n",
    "ax[1].imshow(reconstruction_metal_img.reshape(64,64))\n",
    "ax[1].set_title(\"Metal\")\n",
    "ax[1].axis(\"off\")\n",
    "\n",
    "\n",
    "ax[2].imshow(reconstruction_age_img.reshape(64,64))\n",
    "ax[2].set_title(\"Age\")\n",
    "ax[2].axis(\"off\")\n",
    "\n"
   ]
  },
  {
   "cell_type": "code",
   "execution_count": null,
   "metadata": {},
   "outputs": [],
   "source": [
    "reconstruction_mass_img = np.dot(weights, mass_eigen.reshape(n_components,64*64)) + mean_img.flatten()\n",
    "reconstruction_metal_img = np.dot(weights, metal_eigen.reshape(n_components,64*64)) + mean_metal_img.flatten()\n",
    "reconstruction_age_img = np.dot(weights, age_eigen.reshape(n_components,64*64)) + mean_age_img.flatten()\n",
    "\n",
    "\n",
    "# show the reconstructed images\n",
    "\n",
    "fig, ax = plt.subplots(1, 3, figsize=(10, 5))\n",
    "\n",
    "ax[0].imshow(reconstruction_mass_img.reshape(64,64))\n",
    "ax[0].set_title(\"Mass\")\n",
    "ax[0].axis(\"off\")\n",
    "\n",
    "ax[1].imshow(reconstruction_metal_img.reshape(64,64))\n",
    "ax[1].set_title(\"Metal\")\n",
    "ax[1].axis(\"off\")\n",
    "\n",
    "\n",
    "ax[2].imshow(reconstruction_age_img.reshape(64,64))\n",
    "ax[2].set_title(\"Age\")\n",
    "ax[2].axis(\"off\")\n",
    "\n"
   ]
  },
  {
   "cell_type": "code",
   "execution_count": null,
   "metadata": {},
   "outputs": [],
   "source": [
    "def compare(self, index = None):\n",
    "    field_length = len(self.data._image_fields[self.particle_type])\n",
    "     #Calculate residue of random galaxy\n",
    "    if index is None:\n",
    "        randomind = np.random.randint(0, self.datamatrix.shape[0])\n",
    "    else:\n",
    "        randomind = index\n",
    "    inverse_images = self.inverse_transformed_datamatrix[randomind].reshape(field_length, *self._IMG_SHAPE)\n",
    "    for index, field in enumerate(self.data._image_fields[self.particle_type]):\n",
    "        fig, ax = plt.subplots(1, 3, figsize=(6, 3))\n",
    "        \n",
    "        original = self.datamatrix[randomind].reshape(field_length, *self._IMG_SHAPE)[index]\n",
    "        \n",
    "        ax[0].imshow(original)\n",
    "        ax[0].set_title(f\"Original galaxy\")\n",
    "        ax[0].axis(\"off\")\n",
    "        ax[1].imshow(inverse_images[index])\n",
    "        ax[1].set_title(f\"Reconstructed galaxy\")\n",
    "        ax[1].axis(\"off\")\n",
    "        \n",
    "        # Calculate residue\n",
    "        residue = np.abs(original - inverse_images[index])\n",
    "        #Divide with original where original != 0\n",
    "        residue[original != 0] = residue[original != 0] / original[original != 0]\n",
    "        print(residue.max(), residue.min())\n",
    "        ax[2].imshow(residue, vmin=0, vmax=1)\n",
    "        ax[2].set_title(f\"Residue\")\n",
    "        ax[2].axis(\"off\")\n",
    "        \n",
    "        fig.suptitle(f\"Comparison of {field} field\")\n",
    "        plt.show()"
   ]
  },
  {
   "cell_type": "code",
   "execution_count": null,
   "metadata": {},
   "outputs": [],
   "source": [
    "compare(morphmodel,20)"
   ]
  },
  {
   "cell_type": "code",
   "execution_count": null,
   "metadata": {},
   "outputs": [],
   "source": [
    "masses = data.get_attribute(\"mass\")\n",
    "ids = data.get_attribute(\"halo_id\")"
   ]
  },
  {
   "cell_type": "code",
   "execution_count": null,
   "metadata": {},
   "outputs": [],
   "source": [
    "likelihood = morphmodel.pca.score_samples(morphmodel.datamatrix)"
   ]
  },
  {
   "cell_type": "code",
   "execution_count": null,
   "metadata": {},
   "outputs": [],
   "source": [
    "outlier = np.argsort(likelihood)"
   ]
  },
  {
   "cell_type": "code",
   "execution_count": null,
   "metadata": {},
   "outputs": [],
   "source": [
    "ids[outlier[151]]"
   ]
  },
  {
   "cell_type": "code",
   "execution_count": null,
   "metadata": {},
   "outputs": [],
   "source": []
  },
  {
   "cell_type": "code",
   "execution_count": null,
   "metadata": {},
   "outputs": [],
   "source": [
    "plt.hist(np.log10(masses[outlier[:1000]]))"
   ]
  },
  {
   "cell_type": "code",
   "execution_count": null,
   "metadata": {},
   "outputs": [],
   "source": [
    "compare(morphmodel, outlier[12])"
   ]
  },
  {
   "cell_type": "code",
   "execution_count": null,
   "metadata": {},
   "outputs": [],
   "source": [
    "np.log10(masses).min()"
   ]
  }
 ],
 "metadata": {
  "kernelspec": {
   "display_name": "Python 3",
   "language": "python",
   "name": "python3"
  },
  "language_info": {
   "codemirror_mode": {
    "name": "ipython",
    "version": 3
   },
   "file_extension": ".py",
   "mimetype": "text/x-python",
   "name": "python",
   "nbconvert_exporter": "python",
   "pygments_lexer": "ipython3",
   "version": "3.8.10"
  },
  "vscode": {
   "interpreter": {
    "hash": "31f2aee4e71d21fbe5cf8b01ff0e069b9275f58929596ceb00d14d90e3e16cd6"
   }
  }
 },
 "nbformat": 4,
 "nbformat_minor": 2
}
