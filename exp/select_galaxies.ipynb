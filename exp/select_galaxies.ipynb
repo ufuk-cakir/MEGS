{
 "cells": [
  {
   "cell_type": "code",
   "execution_count": null,
   "metadata": {},
   "outputs": [],
   "source": [
    "import illustris_python as il\n",
    "subhalos = il.groupcat.loadSubhalos(\"/export/data/ucakir/TNG100/TNG100-1/output/\", 99, fields=[\"SubhaloMassType\", \"SubhaloFlag\"])\n",
    "    \n",
    "stellar_mass = subhalos['SubhaloMassType'][:,il.util.partTypeNum(\"stars\")] * 10**10 / 0.704"
   ]
  },
  {
   "cell_type": "code",
   "execution_count": null,
   "metadata": {},
   "outputs": [
    {
     "data": {
      "text/plain": [
       "(12289,)"
      ]
     },
     "metadata": {},
     "output_type": "display_data"
    }
   ],
   "source": [
    "# Get halo IDs of all subhalos with stellar   10^9.5 Msun/h < Mstar < 10^13 Msun/h\n",
    "np.where((stellar_mass> 10**9.5) & (stellar_mass < 10**13))[0].shape"
   ]
  },
  {
   "cell_type": "code",
   "execution_count": null,
   "metadata": {},
   "outputs": [],
   "source": [
    "from megs.data.simulations import select_illustris_galaxies"
   ]
  },
  {
   "cell_type": "code",
   "execution_count": null,
   "metadata": {},
   "outputs": [
    {
     "name": "stdout",
     "output_type": "stream",
     "text": [
      "Found 11975 galaxies with stellar mass between 3162277660.1683793 and 10000000000000 Msun/h.\n"
     ]
    }
   ],
   "source": [
    "hi = select_illustris_galaxies(\"/export/data/ucakir/TNG100/TNG100-1/output/\",99,10**9.5,10**13,\"stars\")"
   ]
  },
  {
   "cell_type": "code",
   "execution_count": null,
   "metadata": {},
   "outputs": [],
   "source": [
    "hd =data.get_attribute(\"halo_id\").astype(int)"
   ]
  },
  {
   "cell_type": "code",
   "execution_count": null,
   "metadata": {},
   "outputs": [
    {
     "data": {
      "text/plain": [
       "(11924,)"
      ]
     },
     "metadata": {},
     "output_type": "display_data"
    }
   ],
   "source": [
    "np.intersect1d(hi,hd).shape"
   ]
  }
 ],
 "metadata": {
  "language_info": {
   "name": "python"
  },
  "orig_nbformat": 4
 },
 "nbformat": 4,
 "nbformat_minor": 2
}
