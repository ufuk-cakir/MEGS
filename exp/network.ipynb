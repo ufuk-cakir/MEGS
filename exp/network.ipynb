{
 "cells": [
  {
   "cell_type": "code",
   "execution_count": 1,
   "metadata": {},
   "outputs": [],
   "source": [
    "import sys\n",
    "sys.path.insert(0, '../src')\n",
    "\n"
   ]
  },
  {
   "cell_type": "code",
   "execution_count": 2,
   "metadata": {},
   "outputs": [
    {
     "name": "stdout",
     "output_type": "stream",
     "text": [
      "File: /export/home/ucakir/MEGS/MEGS/src/megs/data/galaxy_data.hdf5\n",
      "Group: Galaxies\n",
      "    Group: Attributes\n",
      "        Dataset: halo_id (float32) ((12484,))\n",
      "        Dataset: mass (float32) ((12484,))\n",
      "    Group: Particles\n",
      "        Group: stars\n",
      "            Group: Images\n",
      "                Group: dim2\n",
      "                    Dataset: GFM_Metallicity (float32) ((12484, 64, 64))\n",
      "                    Dataset: GFM_StellarFormationTime (float32) ((12484, 64, 64))\n",
      "                    Dataset: Masses (float32) ((12484, 64, 64))\n",
      "                Group: dim3\n",
      "                    Dataset: GFM_Metallicity (float32) ((12484, 64, 64, 64))\n",
      "                    Dataset: GFM_StellarFormationTime (float32) ((12484, 64, 64, 64))\n",
      "                    Dataset: Masses (float32) ((12484, 64, 64, 64))\n"
     ]
    }
   ],
   "source": [
    "from megs.model.mPCA import mPCA\n",
    "from megs.data import image, DataLoader\n",
    "\n",
    "import matplotlib.pyplot as plt\n",
    "import seaborn as sns\n",
    "import numpy as np\n",
    "\n",
    "sns.set_context(\"paper\")\n",
    "#Load Data\n",
    "data = DataLoader(\"/export/home/ucakir/MEGS/MEGS/src/megs/data/galaxy_data.hdf5\")"
   ]
  },
  {
   "cell_type": "code",
   "execution_count": 3,
   "metadata": {},
   "outputs": [
    {
     "name": "stdout",
     "output_type": "stream",
     "text": [
      "Creating datamatrix with the following fields:\n",
      "===============================================\n",
      "Particle type:  stars\n",
      "Fields:  ['GFM_Metallicity', 'GFM_StellarFormationTime', 'Masses']\n",
      "Dimension:  dim2\n",
      "Default arguments are used for the fields that are not specified in the norm_function_kwargs\n",
      "===============================================\n",
      "Created datamatrix with shape:  (12484, 12288)\n"
     ]
    }
   ],
   "source": [
    "\n",
    "norm = image.norm\n",
    "lower = 0.25\n",
    "upper = 1.0\n",
    "norm_function_args = {\"Masses\": {\"takelog\": True, \"plusone\": True,\"lower\": lower, \"upper\": upper},\n",
    "                     \"GFM_Metallicity\": {\"takelog\": True, \"plusone\": True, \"lower\": 0.1, \"upper\": upper},\n",
    "                     \"GFM_StellarFormationTime\": {\"takelog\": True, \"plusone\": True, \"lower\": 0.1, \"upper\": upper},\n",
    "                    \n",
    "}\n",
    "\n",
    "# Define Model\n",
    "mm = mPCA(data, norm_function = norm, norm_function_kwargs=norm_function_args, dim = 2)\n",
    "\n",
    "# Train Model\n",
    "mm.fit(n_components=60, show_results = False)"
   ]
  },
  {
   "cell_type": "code",
   "execution_count": 4,
   "metadata": {},
   "outputs": [],
   "source": [
    "def show_maps(data,index, dim = 2, particle_type = \"stars\"):\n",
    "    dimension = f\"dim{dim}\"\n",
    "    plt.figure(figsize=(15, 5))\n",
    "    for i, field in enumerate(data._image_fields[particle_type][dimension]):\n",
    "        plt.subplot(1, 3, i+1)\n",
    "        img = data.get_image(particle_type=particle_type, field=field, index=index, dim=dim)\n",
    "        normed = image.norm(img, **norm_function_args[field])   \n",
    "        plt.imshow(normed, cmap=\"viridis\")\n",
    "        plt.title(field)\n",
    "        plt.colorbar()\n",
    "    plt.show()"
   ]
  },
  {
   "cell_type": "code",
   "execution_count": 41,
   "metadata": {},
   "outputs": [
    {
     "data": {
      "text/plain": [
       "<matplotlib.image.AxesImage at 0x7fe8812c8100>"
      ]
     },
     "execution_count": 41,
     "metadata": {},
     "output_type": "execute_result"
    },
    {
     "data": {
      "image/png": "[encoded data removed]",
      "text/plain": [
       "<Figure size 640x480 with 1 Axes>"
      ]
     },
     "metadata": {},
     "output_type": "display_data"
    }
   ],
   "source": [
    "# Get example galaxy\n",
    "gal = data.get_image(\"stars\", \"Masses\", 10)\n",
    "normed_gal = image.norm(gal, **norm_function_args[\"Masses\"])\n",
    "plt.imshow(normed_gal)\n"
   ]
  },
  {
   "cell_type": "code",
   "execution_count": null,
   "metadata": {},
   "outputs": [],
   "source": []
  }
 ],
 "metadata": {
  "kernelspec": {
   "display_name": "Python 3",
   "language": "python",
   "name": "python3"
  },
  "language_info": {
   "codemirror_mode": {
    "name": "ipython",
    "version": 3
   },
   "file_extension": ".py",
   "mimetype": "text/x-python",
   "name": "python",
   "nbconvert_exporter": "python",
   "pygments_lexer": "ipython3",
   "version": "3.8.10"
  },
  "orig_nbformat": 4
 },
 "nbformat": 4,
 "nbformat_minor": 2
}
