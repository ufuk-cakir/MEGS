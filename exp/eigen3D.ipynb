{
 "cells": [
  {
   "cell_type": "code",
   "execution_count": null,
   "metadata": {},
   "outputs": [],
   "source": [
    "import sys\n",
    "sys.path.insert(0, '../src')\n",
    "import numpy as np\n",
    "from megs.data import image as image_modules\n",
    "import h5py\n",
    "import pickle\n",
    "import matplotlib.pyplot as plt"
   ]
  },
  {
   "cell_type": "code",
   "execution_count": null,
   "metadata": {},
   "outputs": [],
   "source": []
  },
  {
   "cell_type": "code",
   "execution_count": null,
   "metadata": {},
   "outputs": [],
   "source": [
    "# open pickle file\n",
    "with open(\"galaxy_mPCA.pkl\", 'rb') as f:\n",
    "    data = pickle.load(f)"
   ]
  },
  {
   "cell_type": "code",
   "execution_count": null,
   "metadata": {},
   "outputs": [],
   "source": [
    "scores = data[\"scores\"]\n",
    "means = data[\"means\"]\n",
    "eigengalaxies = data[\"eigengalaxies\"]\n",
    "\n",
    "\n",
    "\n",
    "\n",
    "\n",
    "galaxyindex = 10\n",
    "# recpnstruct galaxy\n",
    "galaxy = np.dot(scores[galaxyindex], eigengalaxies.reshape(len(eigengalaxies),64**3*3)) + means.flatten()\n",
    "galaxy = galaxy.reshape(3,64,64,64)\n",
    "\n",
    "img = galaxy[0] \n",
    "# plot\n",
    "image_modules.volume(img, surface_count=15, isomin = 0.2)"
   ]
  },
  {
   "cell_type": "code",
   "execution_count": null,
   "metadata": {},
   "outputs": [],
   "source": [
    "index = 25\n",
    "mapindex = 2\n",
    "\n",
    "vol = data[\"eigengalaxies\"][index][mapindex].copy()\n",
    "\n",
    "image_modules.volume(vol,surface_count=10)"
   ]
  },
  {
   "cell_type": "code",
   "execution_count": null,
   "metadata": {},
   "outputs": [],
   "source": [
    "path = \"../../RAW DATA/eigen3d.npy\"\n",
    "eigen3d = np.load(path)\n",
    "import matplotlib.pyplot as plt"
   ]
  },
  {
   "cell_type": "code",
   "execution_count": null,
   "metadata": {},
   "outputs": [],
   "source": [
    "from mayavi import mlab"
   ]
  },
  {
   "cell_type": "code",
   "execution_count": null,
   "metadata": {},
   "outputs": [],
   "source": [
    "def mayaviContour(volume, colorbar = False, azimuth = 90, elevation = -50, distance = 180, contour_count = 500, opacity = .01 , save_path = None):\n",
    "    fig1 = mlab.figure(size=(1000, 1000), bgcolor=(0, 0, 0), fgcolor=(1, 1,1))\n",
    "    scalars = mlab.pipeline.scalar_field(volume)\n",
    "    contours = mlab.pipeline.contour_surface(scalars,contours = contour_count,transparent=True, opacity = opacity,colormap = \"magma\")\n",
    "    if colorbar: mlab.colorbar(orientation=\"vertical\", nb_labels=3)\n",
    "    mlab.view(azimuth=azimuth, elevation=elevation, distance=distance)\n",
    "    if save_path is not None:\n",
    "        mlab.savefig(save_path,figure = fig1)\n",
    "    mlab.show()\n",
    "    \n",
    "    \n",
    "def mayaviVolume(volume, colorbar = False, azimuth = 90, elevation = -50, distance = 180, opacity = .01 , save_path = None):\n",
    "    fig1 = mlab.figure(size=(1000, 1000), bgcolor=(0, 0, 0), fgcolor=(1, 1,1))\n",
    "    scalars = mlab.pipeline.scalar_field(volume)\n",
    "    contours = mlab.pipeline.volume(scalars)\n",
    "    if colorbar: mlab.colorbar(orientation=\"vertical\", nb_labels=3)\n",
    "    mlab.view(azimuth=azimuth, elevation=elevation, distance=distance)\n",
    "    if save_path is not None:\n",
    "        mlab.savefig(save_path,figure = fig1)\n",
    "    mlab.show()\n",
    "    \n",
    "def mayaviPoints(points, colorbar = False, azimuth = 90, elevation = -50, distance = 180, opacity = .01 , save_path = None):\n",
    "    fig1 = mlab.figure(size=(1000, 1000), bgcolor=(0, 0, 0), fgcolor=(1, 1,1))\n",
    "    points = mlab.points3d(points[:,0], points[:,1], points[:,2],color = (1,1,1), scale_factor=1)\n",
    "    if colorbar: mlab.colorbar(orientation=\"vertical\", nb_labels=3)\n",
    "    mlab.view(azimuth=azimuth, elevation=elevation, distance=distance)\n",
    "    if save_path is not None:\n",
    "        mlab.savefig(save_path,figure = fig1)\n",
    "    mlab.show()\n",
    "\n",
    "def mayaviIsoSurface(volume, colorbar = False, azimuth = 90, elevation = -50, distance = 180, opacity = .01 ,isovalue=100, save_path = None):\n",
    "    # Create the figure and scalar field\n",
    "    fig = mlab.figure(size=(1000, 1000), bgcolor=(0, 0, 0), fgcolor=(1, 1, 1))\n",
    "    scalars = mlab.pipeline.scalar_field(volume)\n",
    "\n",
    "    # Create the iso surface\n",
    "    iso_surface = mlab.pipeline.iso_surface(scalars, contours=[isovalue], colormap=\"magma\", opacity=opacity)\n",
    "\n",
    "    # Add colorbar if required\n",
    "    if colorbar:\n",
    "        mlab.colorbar(orientation=\"vertical\", nb_labels=3)\n",
    "\n",
    "    # Set the view parameters\n",
    "    mlab.view(azimuth=azimuth, elevation=elevation, distance=distance)\n",
    "\n",
    "    # Save the figure if save_path is provided\n",
    "    if save_path:\n",
    "        mlab.savefig(save_path, figure=fig)\n",
    "\n",
    "    # Show the visualization\n",
    "    mlab.show()\n"
   ]
  },
  {
   "cell_type": "code",
   "execution_count": null,
   "metadata": {},
   "outputs": [],
   "source": [
    "\n",
    "for i in range(50):\n",
    "    volume = eigen3d[i][0]\n",
    "    volume = image_modules.clip_image(volume, 0.1,1.0)\n",
    "    mayaviContour(volume, opacity= .5, contour_count=300)"
   ]
  },
  {
   "cell_type": "code",
   "execution_count": null,
   "metadata": {},
   "outputs": [],
   "source": [
    "def project(volume):\n",
    "    # Create a 2D slice of the volume in the x-y plane, where the image is 64x64\n",
    "    image = volume[:, :, 32]\n",
    "    return image \n",
    "    # Create a 2D slice of the volume in the x-z plane\n"
   ]
  },
  {
   "cell_type": "code",
   "execution_count": null,
   "metadata": {},
   "outputs": [],
   "source": [
    "data[\"eigengalaxies\"].shape"
   ]
  },
  {
   "cell_type": "code",
   "execution_count": null,
   "metadata": {},
   "outputs": [],
   "source": [
    "# Create porjection of the eigengalaxies in the x-y plane and plot them\n",
    "mapindex = 2\n",
    "eigen3d = data[\"eigengalaxies\"][:,mapindex]\n",
    "\n",
    "fig,axis = plt.subplots(10,6,figsize = (20,40))\n",
    "for i in range(60):\n",
    "    image = project(eigen3d[i])\n",
    "    axis[i//6,i%6].imshow(image)\n",
    "    axis[i//6,i%6].axis(\"off\")\n",
    "    axis[i//6,i%6].set_title(\"EigenGalaxy {}\".format(i))\n",
    "plt.show()\n",
    "    \n"
   ]
  }
 ],
 "metadata": {
  "kernelspec": {
   "display_name": "base",
   "language": "python",
   "name": "python3"
  },
  "language_info": {
   "codemirror_mode": {
    "name": "ipython",
    "version": 3
   },
   "file_extension": ".py",
   "mimetype": "text/x-python",
   "name": "python",
   "nbconvert_exporter": "python",
   "pygments_lexer": "ipython3",
   "version": "3.8.10"
  },
  "orig_nbformat": 4
 },
 "nbformat": 4,
 "nbformat_minor": 2
}
