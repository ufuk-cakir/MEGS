{
 "cells": [
  {
   "cell_type": "code",
   "execution_count": 29,
   "metadata": {},
   "outputs": [],
   "source": [
    "from megs.data.galaxy import Galaxy\n",
    "import numpy as np\n",
    "import h5py"
   ]
  },
  {
   "cell_type": "code",
   "execution_count": 1,
   "metadata": {},
   "outputs": [],
   "source": [
    "from megs.data.simulations import select_illustris_galaxies\n"
   ]
  },
  {
   "cell_type": "code",
   "execution_count": 1,
   "metadata": {},
   "outputs": [],
   "source": [
    "import illustris_python as il\n",
    "import numpy as np"
   ]
  },
  {
   "cell_type": "code",
   "execution_count": 2,
   "metadata": {},
   "outputs": [
    {
     "name": "stdout",
     "output_type": "stream",
     "text": [
      "Found 11960 galaxies with stellar mass between 3162277660.1683793 and 1000000000000 Msun/h.\n"
     ]
    }
   ],
   "source": [
    "basepath = \"/export/data/ucakir/TNG100/TNG100-1/output/\"\n",
    "ids = select_illustris_galaxies(basepath, 99, 10**9.5, 10**12, particle_type = \"stars\")"
   ]
  },
  {
   "cell_type": "code",
   "execution_count": 40,
   "metadata": {},
   "outputs": [],
   "source": [
    "# Load header at snapshot 99 (z=0)\n",
    "\n",
    "subhalos = il.groupcat.loadSubhalos(basepath, 99, fields=['SubhaloMass', \"SubhaloMassType\", \"SubhaloFlag\"])\n",
    "stellar_mass = subhalos['SubhaloMassType'][:,4] * 10**10 / 0.704\n",
    "# Get halo IDs of all subhalos with stellar   10^9.5 Msun/h < Mstar < 10^13 Msun/h\n",
    "mass_cut = np.where((stellar_mass> 10**9.5) & (stellar_mass < 10**12))[0]\n",
    "\n",
    "# Get halo IDs of all subhalos with SubhaloFlag == 0 (i.e. no Galaxy and should be ignored)\n",
    "flag_cut = np.where(subhalos['SubhaloFlag'] == 1)[0]\n",
    "\n",
    "# Get the common halo IDs that satisfy both conditions\n",
    "halo_ids = np.intersect1d(mass_cut, flag_cut)"
   ]
  },
  {
   "cell_type": "code",
   "execution_count": 41,
   "metadata": {},
   "outputs": [
    {
     "data": {
      "text/plain": [
       "(11960,)"
      ]
     },
     "execution_count": 41,
     "metadata": {},
     "output_type": "execute_result"
    }
   ],
   "source": [
    "halo_ids.shape"
   ]
  },
  {
   "cell_type": "code",
   "execution_count": 15,
   "metadata": {},
   "outputs": [
    {
     "ename": "IndexError",
     "evalue": "index 17185 is out of bounds for axis 0 with size 12289",
     "output_type": "error",
     "traceback": [
      "\u001b[0;31m---------------------------------------------------------------------------\u001b[0m",
      "\u001b[0;31mIndexError\u001b[0m                                Traceback (most recent call last)",
      "\u001b[1;32m/export/home/ucakir/MEGS/MEGS/src/luca.ipynb Zelle 5\u001b[0m in \u001b[0;36m5\n\u001b[1;32m      <a href='vscode-notebook-cell://ssh-remote%2Bhgsgpu01.iwr.uni-heidelberg.de/export/home/ucakir/MEGS/MEGS/src/luca.ipynb#X11sdnNjb2RlLXJlbW90ZQ%3D%3D?line=0'>1</a>\u001b[0m \u001b[39m#Fiter galaxies with stellar mass > 10^9 Msun\u001b[39;00m\n\u001b[1;32m      <a href='vscode-notebook-cell://ssh-remote%2Bhgsgpu01.iwr.uni-heidelberg.de/export/home/ucakir/MEGS/MEGS/src/luca.ipynb#X11sdnNjb2RlLXJlbW90ZQ%3D%3D?line=1'>2</a>\u001b[0m \u001b[39m# check subhalo flag\u001b[39;00m\n\u001b[1;32m      <a href='vscode-notebook-cell://ssh-remote%2Bhgsgpu01.iwr.uni-heidelberg.de/export/home/ucakir/MEGS/MEGS/src/luca.ipynb#X11sdnNjb2RlLXJlbW90ZQ%3D%3D?line=3'>4</a>\u001b[0m index_flag \u001b[39m=\u001b[39m subhalos[\u001b[39m'\u001b[39m\u001b[39mSubhaloFlag\u001b[39m\u001b[39m'\u001b[39m][ind]\n\u001b[0;32m----> <a href='vscode-notebook-cell://ssh-remote%2Bhgsgpu01.iwr.uni-heidelberg.de/export/home/ucakir/MEGS/MEGS/src/luca.ipynb#X11sdnNjb2RlLXJlbW90ZQ%3D%3D?line=4'>5</a>\u001b[0m stellar_mass \u001b[39m=\u001b[39m stellar_mass[ind]\n\u001b[1;32m      <a href='vscode-notebook-cell://ssh-remote%2Bhgsgpu01.iwr.uni-heidelberg.de/export/home/ucakir/MEGS/MEGS/src/luca.ipynb#X11sdnNjb2RlLXJlbW90ZQ%3D%3D?line=5'>6</a>\u001b[0m stellar_mass\u001b[39m.\u001b[39mshape\n",
      "\u001b[0;31mIndexError\u001b[0m: index 17185 is out of bounds for axis 0 with size 12289"
     ]
    }
   ],
   "source": [
    "\n",
    "ind = np.where(stellar_mass > 10**9.5)\n",
    "# Fiter galaxies with stellar mass > 10^9 Msun\n",
    "# check subhalo flag\n",
    "\n",
    "index_flag = subhalos['SubhaloFlag'][ind]\n",
    "stellar_mass = stellar_mass[ind]\n",
    "stellar_mass.shape"
   ]
  },
  {
   "cell_type": "code",
   "execution_count": 26,
   "metadata": {},
   "outputs": [
    {
     "name": "stdout",
     "output_type": "stream",
     "text": [
      "(314,)\n"
     ]
    }
   ],
   "source": [
    "flags = subhalos[\"SubhaloFlag\"][ind]\n",
    "#check if subhalo flag is 0\n",
    "badflag = np.where(flags == 0)\n",
    "print(badflag[0].shape)"
   ]
  },
  {
   "cell_type": "code",
   "execution_count": 12,
   "metadata": {},
   "outputs": [],
   "source": [
    "deep = np.load(\"megs/data/deep_ids_wihtout_corrupt.npy\")"
   ]
  },
  {
   "cell_type": "code",
   "execution_count": 14,
   "metadata": {},
   "outputs": [
    {
     "data": {
      "text/plain": [
       "(12484,)"
      ]
     },
     "execution_count": 14,
     "metadata": {},
     "output_type": "execute_result"
    }
   ],
   "source": [
    "deep.shape"
   ]
  },
  {
   "cell_type": "code",
   "execution_count": 11,
   "metadata": {},
   "outputs": [
    {
     "data": {
      "text/plain": [
       "(array([     0,      1,      2, ..., 727485, 738596, 752194]),)"
      ]
     },
     "execution_count": 11,
     "metadata": {},
     "output_type": "execute_result"
    }
   ],
   "source": [
    "ind"
   ]
  },
  {
   "cell_type": "code",
   "execution_count": 3,
   "metadata": {},
   "outputs": [],
   "source": [
    "g = Galaxy(simulation=\"IllustrisTNG\", halo_id=20, particle_type=\"stars\", base_path=basepath, snapshot=99)"
   ]
  },
  {
   "cell_type": "code",
   "execution_count": 30,
   "metadata": {},
   "outputs": [
    {
     "name": "stdout",
     "output_type": "stream",
     "text": [
      "No unit conversion for Field GFM_Metals. Return without changes.\n",
      "No unit conversion for Field Velocities. Return without changes.\n"
     ]
    },
    {
     "ename": "TypeError",
     "evalue": "Scalar datasets don't support chunk/filter options",
     "output_type": "error",
     "traceback": [
      "\u001b[0;31m---------------------------------------------------------------------------\u001b[0m",
      "\u001b[0;31mTypeError\u001b[0m                                 Traceback (most recent call last)",
      "\u001b[1;32m/export/home/ucakir/MEGS/MEGS/src/luca.ipynb Zelle 4\u001b[0m in \u001b[0;36m2\n\u001b[1;32m     <a href='vscode-notebook-cell://ssh-remote%2Bhgsgpu01.iwr.uni-heidelberg.de/export/home/ucakir/MEGS/MEGS/src/luca.ipynb#X10sdnNjb2RlLXJlbW90ZQ%3D%3D?line=22'>23</a>\u001b[0m \u001b[39mwith\u001b[39;00m h5py\u001b[39m.\u001b[39mFile(\u001b[39mf\u001b[39m\u001b[39m\"\u001b[39m\u001b[39mhalo_\u001b[39m\u001b[39m{\u001b[39;00mhalo_id\u001b[39m}\u001b[39;00m\u001b[39m.hdf5\u001b[39m\u001b[39m\"\u001b[39m, \u001b[39m\"\u001b[39m\u001b[39mw\u001b[39m\u001b[39m\"\u001b[39m) \u001b[39mas\u001b[39;00m f:\n\u001b[1;32m     <a href='vscode-notebook-cell://ssh-remote%2Bhgsgpu01.iwr.uni-heidelberg.de/export/home/ucakir/MEGS/MEGS/src/luca.ipynb#X10sdnNjb2RlLXJlbW90ZQ%3D%3D?line=23'>24</a>\u001b[0m     \u001b[39mfor\u001b[39;00m key \u001b[39min\u001b[39;00m data\u001b[39m.\u001b[39mkeys():\n\u001b[0;32m---> <a href='vscode-notebook-cell://ssh-remote%2Bhgsgpu01.iwr.uni-heidelberg.de/export/home/ucakir/MEGS/MEGS/src/luca.ipynb#X10sdnNjb2RlLXJlbW90ZQ%3D%3D?line=24'>25</a>\u001b[0m         f\u001b[39m.\u001b[39;49mcreate_dataset(key, data\u001b[39m=\u001b[39;49mdata[key], compression\u001b[39m=\u001b[39;49m\u001b[39m\"\u001b[39;49m\u001b[39mgzip\u001b[39;49m\u001b[39m\"\u001b[39;49m, compression_opts\u001b[39m=\u001b[39;49m\u001b[39m9\u001b[39;49m)\n\u001b[1;32m     <a href='vscode-notebook-cell://ssh-remote%2Bhgsgpu01.iwr.uni-heidelberg.de/export/home/ucakir/MEGS/MEGS/src/luca.ipynb#X10sdnNjb2RlLXJlbW90ZQ%3D%3D?line=26'>27</a>\u001b[0m \u001b[39m# Load the data\u001b[39;00m\n\u001b[1;32m     <a href='vscode-notebook-cell://ssh-remote%2Bhgsgpu01.iwr.uni-heidelberg.de/export/home/ucakir/MEGS/MEGS/src/luca.ipynb#X10sdnNjb2RlLXJlbW90ZQ%3D%3D?line=27'>28</a>\u001b[0m \u001b[39mwith\u001b[39;00m h5py\u001b[39m.\u001b[39mFile(\u001b[39mf\u001b[39m\u001b[39m\"\u001b[39m\u001b[39mhalo_\u001b[39m\u001b[39m{\u001b[39;00mhalo_id\u001b[39m}\u001b[39;00m\u001b[39m.hdf5\u001b[39m\u001b[39m\"\u001b[39m, \u001b[39m\"\u001b[39m\u001b[39mr\u001b[39m\u001b[39m\"\u001b[39m) \u001b[39mas\u001b[39;00m f:\n",
      "File \u001b[0;32m~/.local/lib/python3.8/site-packages/h5py/_hl/group.py:161\u001b[0m, in \u001b[0;36mGroup.create_dataset\u001b[0;34m(self, name, shape, dtype, data, **kwds)\u001b[0m\n\u001b[1;32m    158\u001b[0m         parent_path, name \u001b[39m=\u001b[39m name\u001b[39m.\u001b[39mrsplit(\u001b[39mb\u001b[39m\u001b[39m'\u001b[39m\u001b[39m/\u001b[39m\u001b[39m'\u001b[39m, \u001b[39m1\u001b[39m)\n\u001b[1;32m    159\u001b[0m         group \u001b[39m=\u001b[39m \u001b[39mself\u001b[39m\u001b[39m.\u001b[39mrequire_group(parent_path)\n\u001b[0;32m--> 161\u001b[0m dsid \u001b[39m=\u001b[39m dataset\u001b[39m.\u001b[39;49mmake_new_dset(group, shape, dtype, data, name, \u001b[39m*\u001b[39;49m\u001b[39m*\u001b[39;49mkwds)\n\u001b[1;32m    162\u001b[0m dset \u001b[39m=\u001b[39m dataset\u001b[39m.\u001b[39mDataset(dsid)\n\u001b[1;32m    163\u001b[0m \u001b[39mreturn\u001b[39;00m dset\n",
      "File \u001b[0;32m~/.local/lib/python3.8/site-packages/h5py/_hl/dataset.py:106\u001b[0m, in \u001b[0;36mmake_new_dset\u001b[0;34m(parent, shape, dtype, data, name, chunks, compression, shuffle, fletcher32, maxshape, compression_opts, fillvalue, scaleoffset, track_times, external, track_order, dcpl, dapl, efile_prefix, virtual_prefix, allow_unknown_filter)\u001b[0m\n\u001b[1;32m    104\u001b[0m     compression_opts \u001b[39m=\u001b[39m compression\n\u001b[1;32m    105\u001b[0m     compression \u001b[39m=\u001b[39m \u001b[39m'\u001b[39m\u001b[39mgzip\u001b[39m\u001b[39m'\u001b[39m\n\u001b[0;32m--> 106\u001b[0m dcpl \u001b[39m=\u001b[39m filters\u001b[39m.\u001b[39;49mfill_dcpl(\n\u001b[1;32m    107\u001b[0m     dcpl \u001b[39mor\u001b[39;49;00m h5p\u001b[39m.\u001b[39;49mcreate(h5p\u001b[39m.\u001b[39;49mDATASET_CREATE), shape, dtype,\n\u001b[1;32m    108\u001b[0m     chunks, compression, compression_opts, shuffle, fletcher32,\n\u001b[1;32m    109\u001b[0m     maxshape, scaleoffset, external, allow_unknown_filter)\n\u001b[1;32m    111\u001b[0m \u001b[39mif\u001b[39;00m fillvalue \u001b[39mis\u001b[39;00m \u001b[39mnot\u001b[39;00m \u001b[39mNone\u001b[39;00m:\n\u001b[1;32m    112\u001b[0m     \u001b[39m# prepare string-type dtypes for fillvalue\u001b[39;00m\n\u001b[1;32m    113\u001b[0m     string_info \u001b[39m=\u001b[39m h5t\u001b[39m.\u001b[39mcheck_string_dtype(dtype)\n",
      "File \u001b[0;32m~/.local/lib/python3.8/site-packages/h5py/_hl/filters.py:158\u001b[0m, in \u001b[0;36mfill_dcpl\u001b[0;34m(plist, shape, dtype, chunks, compression, compression_opts, shuffle, fletcher32, maxshape, scaleoffset, external, allow_unknown_filter)\u001b[0m\n\u001b[1;32m    155\u001b[0m shapetype \u001b[39m=\u001b[39m \u001b[39m'\u001b[39m\u001b[39mEmpty\u001b[39m\u001b[39m'\u001b[39m \u001b[39mif\u001b[39;00m shape \u001b[39mis\u001b[39;00m \u001b[39mNone\u001b[39;00m \u001b[39melse\u001b[39;00m \u001b[39m'\u001b[39m\u001b[39mScalar\u001b[39m\u001b[39m'\u001b[39m\n\u001b[1;32m    156\u001b[0m \u001b[39mif\u001b[39;00m \u001b[39many\u001b[39m((chunks, compression, compression_opts, shuffle, fletcher32,\n\u001b[1;32m    157\u001b[0m         scaleoffset \u001b[39mis\u001b[39;00m \u001b[39mnot\u001b[39;00m \u001b[39mNone\u001b[39;00m)):\n\u001b[0;32m--> 158\u001b[0m     \u001b[39mraise\u001b[39;00m \u001b[39mTypeError\u001b[39;00m(\n\u001b[1;32m    159\u001b[0m         \u001b[39mf\u001b[39m\u001b[39m\"\u001b[39m\u001b[39m{\u001b[39;00mshapetype\u001b[39m}\u001b[39;00m\u001b[39m datasets don\u001b[39m\u001b[39m'\u001b[39m\u001b[39mt support chunk/filter options\u001b[39m\u001b[39m\"\u001b[39m\n\u001b[1;32m    160\u001b[0m     )\n\u001b[1;32m    161\u001b[0m \u001b[39mif\u001b[39;00m maxshape \u001b[39mand\u001b[39;00m maxshape \u001b[39m!=\u001b[39m ():\n\u001b[1;32m    162\u001b[0m     \u001b[39mraise\u001b[39;00m \u001b[39mTypeError\u001b[39;00m(\u001b[39mf\u001b[39m\u001b[39m\"\u001b[39m\u001b[39m{\u001b[39;00mshapetype\u001b[39m}\u001b[39;00m\u001b[39m datasets cannot be extended\u001b[39m\u001b[39m\"\u001b[39m)\n",
      "\u001b[0;31mTypeError\u001b[0m: Scalar datasets don't support chunk/filter options"
     ]
    }
   ],
   "source": [
    "halo_id = 20\n",
    "g = Galaxy(simulation=\"IllustrisTNG\", halo_id=halo_id, particle_type=\"stars\", base_path=basepath, snapshot=99)\n",
    "coords = g.get_coordinates()\n",
    "masses = g.get_field(\"Masses\")\n",
    "age = g.get_field(\"GFM_StellarFormationTime\")\n",
    "metallicity = g.get_field(\"GFM_Metallicity\")\n",
    "metals = g.get_field(\"GFM_Metals\")\n",
    "total_dm_mass = g.get_field(\"SubhaloMassType\", particle_type=\"dm\")\n",
    "velocities = g.get_rotated_velocities()\n",
    "\n",
    "# Save everything to a file as dictionary\n",
    "    \n",
    "# Save everything to a file as dictionary\n",
    "data = {\"coords\": coords, \n",
    "        \"masses\": masses, \n",
    "        \"age\": age,\n",
    "        \"metallicity\": metallicity, \n",
    "        \"metals\": metals,\n",
    "        \"total_dm_mass\": total_dm_mass,\n",
    "        \"velocities\": velocities}    \n",
    "\n",
    "# Save to hdf5 file with compression\n",
    "with h5py.File(f\"halo_{halo_id}.hdf5\", \"w\") as f:\n",
    "    for key in data.keys():\n",
    "        f.create_dataset(key, data=data[key], compression=\"gzip\", compression_opts=9)\n",
    "\n",
    "# Load the data\n",
    "with h5py.File(f\"halo_{halo_id}.hdf5\", \"r\") as f:\n",
    "    for key in f.keys():\n",
    "        print(key)\n",
    "        print(f[key][:10])\n",
    "        print(f[key].shape)\n",
    "        print()\n",
    "\n"
   ]
  },
  {
   "cell_type": "code",
   "execution_count": 15,
   "metadata": {},
   "outputs": [
    {
     "name": "stdout",
     "output_type": "stream",
     "text": [
      "[[ 30  36  42]\n",
      " [ 66  81  96]\n",
      " [102 126 150]]\n",
      "[[ 30  36  42]\n",
      " [ 66  81  96]\n",
      " [102 126 150]]\n",
      "[[ 30  36  42]\n",
      " [ 66  81  96]\n",
      " [102 126 150]]\n"
     ]
    }
   ],
   "source": [
    " # Create two 3x3 matrices in numpy\n",
    "a = np.array([[1,2,3],[4,5,6],[7,8,9]])\n",
    "b = np.array([[1,2,3],[4,5,6],[7,8,9]])\n",
    "\n",
    "# Matrix multiplication\n",
    "c = np.matmul(a,b)\n",
    "\n",
    "d = np.dot(a,b)\n",
    "e = a @ b\n",
    "\n",
    "print(c)\n",
    "print(d)\n",
    "print(e)"
   ]
  }
 ],
 "metadata": {
  "kernelspec": {
   "display_name": "Python 3",
   "language": "python",
   "name": "python3"
  },
  "language_info": {
   "codemirror_mode": {
    "name": "ipython",
    "version": 3
   },
   "file_extension": ".py",
   "mimetype": "text/x-python",
   "name": "python",
   "nbconvert_exporter": "python",
   "pygments_lexer": "ipython3",
   "version": "3.8.10"
  },
  "orig_nbformat": 4
 },
 "nbformat": 4,
 "nbformat_minor": 2
}
